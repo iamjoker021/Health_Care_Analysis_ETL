{
 "cells": [
  {
   "cell_type": "markdown",
   "id": "a12cf102",
   "metadata": {},
   "source": [
    "# Part 1"
   ]
  },
  {
   "cell_type": "code",
   "execution_count": 1,
   "id": "3539892d",
   "metadata": {},
   "outputs": [],
   "source": [
    "import pandas as pd\n",
    "import numpy as np\n",
    "\n",
    "import matplotlib.pyplot as plt"
   ]
  },
  {
   "cell_type": "markdown",
   "id": "1127d75f",
   "metadata": {},
   "source": [
    "### Problem 1"
   ]
  },
  {
   "cell_type": "code",
   "execution_count": 2,
   "id": "d2171871",
   "metadata": {},
   "outputs": [
    {
     "data": {
      "text/plain": [
       "'\\nProblem Statement 1: (Keep the relevant data)\\n\\nThe census 2011 file contains many fields, which we may not use. Remove some columns so that we are left with only relevant data.\\nWe may need the following columns.\\n\\uf0d8\\tState name\\n\\uf0d8\\tDistrict name\\n\\uf0d8\\tPopulation\\n\\uf0d8\\tMale\\n\\uf0d8\\tFemale\\n\\uf0d8\\tLiterate\\n\\uf0d8\\tMale_Literate\\n\\uf0d8\\tFemale_Literate\\n\\uf0d8\\tRural_Households\\n\\uf0d8\\tUrban_Households\\n\\uf0d8\\tHouseholds\\n\\uf0d8\\tAge_Group_0_29\\n\\uf0d8\\tAge_Group_30_49\\n\\uf0d8\\tAge_Group_50\\n\\uf0d8\\tAge not stated\\nImport the data to pandas and keep only the required columns. \\n'"
      ]
     },
     "execution_count": 2,
     "metadata": {},
     "output_type": "execute_result"
    }
   ],
   "source": [
    "\"\"\"\n",
    "Problem Statement 1: (Keep the relevant data)\n",
    "\n",
    "The census 2011 file contains many fields, which we may not use. Remove some columns so that we are left with only relevant data.\n",
    "We may need the following columns.\n",
    "\tState name\n",
    "\tDistrict name\n",
    "\tPopulation\n",
    "\tMale\n",
    "\tFemale\n",
    "\tLiterate\n",
    "\tMale_Literate\n",
    "\tFemale_Literate\n",
    "\tRural_Households\n",
    "\tUrban_Households\n",
    "\tHouseholds\n",
    "\tAge_Group_0_29\n",
    "\tAge_Group_30_49\n",
    "\tAge_Group_50\n",
    "\tAge not stated\n",
    "Import the data to pandas and keep only the required columns. \n",
    "\"\"\""
   ]
  },
  {
   "cell_type": "code",
   "execution_count": 3,
   "id": "2a70a8c3",
   "metadata": {},
   "outputs": [],
   "source": [
    "# Passing the columns for filtering\n",
    "columns = '''State name\n",
    "District name\n",
    "Population\n",
    "Male\n",
    "Female\n",
    "Literate\n",
    "Male_Literate\n",
    "Female_Literate\n",
    "Rural_Households\n",
    "Urban_Households\n",
    "Households\n",
    "Age_Group_0_29\n",
    "Age_Group_30_49\n",
    "Age_Group_50\n",
    "Age not stated'''\n",
    "columns_needed = columns.split(\"\\n\")\n",
    "\n",
    "# Reading the data and storing in census with only required columns mentioned in document\n",
    "census = pd.read_csv(\"Data/census_2011.csv\", usecols=columns_needed)"
   ]
  },
  {
   "cell_type": "code",
   "execution_count": 4,
   "id": "4af87af4",
   "metadata": {},
   "outputs": [
    {
     "data": {
      "text/html": [
       "<div>\n",
       "<style scoped>\n",
       "    .dataframe tbody tr th:only-of-type {\n",
       "        vertical-align: middle;\n",
       "    }\n",
       "\n",
       "    .dataframe tbody tr th {\n",
       "        vertical-align: top;\n",
       "    }\n",
       "\n",
       "    .dataframe thead th {\n",
       "        text-align: right;\n",
       "    }\n",
       "</style>\n",
       "<table border=\"1\" class=\"dataframe\">\n",
       "  <thead>\n",
       "    <tr style=\"text-align: right;\">\n",
       "      <th></th>\n",
       "      <th>State name</th>\n",
       "      <th>District name</th>\n",
       "      <th>Population</th>\n",
       "      <th>Male</th>\n",
       "      <th>Female</th>\n",
       "      <th>Literate</th>\n",
       "      <th>Male_Literate</th>\n",
       "      <th>Female_Literate</th>\n",
       "      <th>Rural_Households</th>\n",
       "      <th>Urban_Households</th>\n",
       "      <th>Households</th>\n",
       "      <th>Age_Group_0_29</th>\n",
       "      <th>Age_Group_30_49</th>\n",
       "      <th>Age_Group_50</th>\n",
       "      <th>Age not stated</th>\n",
       "    </tr>\n",
       "  </thead>\n",
       "  <tbody>\n",
       "    <tr>\n",
       "      <th>0</th>\n",
       "      <td>JAMMU AND KASHMIR</td>\n",
       "      <td>Kupwara</td>\n",
       "      <td>870354.0</td>\n",
       "      <td>474190.0</td>\n",
       "      <td>396164.0</td>\n",
       "      <td>439654.0</td>\n",
       "      <td>282823.0</td>\n",
       "      <td>156831.0</td>\n",
       "      <td>158438.0</td>\n",
       "      <td>NaN</td>\n",
       "      <td>181664.0</td>\n",
       "      <td>600759.0</td>\n",
       "      <td>178435.0</td>\n",
       "      <td>89679.0</td>\n",
       "      <td>1481.0</td>\n",
       "    </tr>\n",
       "    <tr>\n",
       "      <th>1</th>\n",
       "      <td>JAMMU AND KASHMIR</td>\n",
       "      <td>Badgam</td>\n",
       "      <td>753745.0</td>\n",
       "      <td>NaN</td>\n",
       "      <td>355704.0</td>\n",
       "      <td>335649.0</td>\n",
       "      <td>207741.0</td>\n",
       "      <td>127908.0</td>\n",
       "      <td>160649.0</td>\n",
       "      <td>27190.0</td>\n",
       "      <td>187839.0</td>\n",
       "      <td>503223.0</td>\n",
       "      <td>160933.0</td>\n",
       "      <td>88978.0</td>\n",
       "      <td>611.0</td>\n",
       "    </tr>\n",
       "    <tr>\n",
       "      <th>2</th>\n",
       "      <td>JAMMU AND KASHMIR</td>\n",
       "      <td>Leh(Ladakh)</td>\n",
       "      <td>133487.0</td>\n",
       "      <td>78971.0</td>\n",
       "      <td>54516.0</td>\n",
       "      <td>93770.0</td>\n",
       "      <td>62834.0</td>\n",
       "      <td>30936.0</td>\n",
       "      <td>36920.0</td>\n",
       "      <td>17474.0</td>\n",
       "      <td>54394.0</td>\n",
       "      <td>70703.0</td>\n",
       "      <td>41515.0</td>\n",
       "      <td>NaN</td>\n",
       "      <td>250.0</td>\n",
       "    </tr>\n",
       "  </tbody>\n",
       "</table>\n",
       "</div>"
      ],
      "text/plain": [
       "          State name District name  Population      Male    Female  Literate  \\\n",
       "0  JAMMU AND KASHMIR       Kupwara    870354.0  474190.0  396164.0  439654.0   \n",
       "1  JAMMU AND KASHMIR        Badgam    753745.0       NaN  355704.0  335649.0   \n",
       "2  JAMMU AND KASHMIR   Leh(Ladakh)    133487.0   78971.0   54516.0   93770.0   \n",
       "\n",
       "   Male_Literate  Female_Literate  Rural_Households  Urban_Households  \\\n",
       "0       282823.0         156831.0          158438.0               NaN   \n",
       "1       207741.0         127908.0          160649.0           27190.0   \n",
       "2        62834.0          30936.0           36920.0           17474.0   \n",
       "\n",
       "   Households  Age_Group_0_29  Age_Group_30_49  Age_Group_50  Age not stated  \n",
       "0    181664.0        600759.0         178435.0       89679.0          1481.0  \n",
       "1    187839.0        503223.0         160933.0       88978.0           611.0  \n",
       "2     54394.0         70703.0          41515.0           NaN           250.0  "
      ]
     },
     "execution_count": 4,
     "metadata": {},
     "output_type": "execute_result"
    }
   ],
   "source": [
    "census.head(3)"
   ]
  },
  {
   "cell_type": "markdown",
   "id": "7ce1c30f",
   "metadata": {},
   "source": [
    "### Problem 2"
   ]
  },
  {
   "cell_type": "code",
   "execution_count": 5,
   "id": "7319a57a",
   "metadata": {},
   "outputs": [
    {
     "data": {
      "text/plain": [
       "'\\nProblem Statement 2: (Rename the Column names)\\n\\nFor uniformity in the datasets and taking into consideration the census year, we need to rename some columns. \\n\\uf0d8\\tState name  to State/UT\\n\\uf0d8\\tDistrict name  to District\\n\\uf0d8\\tMale_Literate to Literate_Male\\n\\uf0d8\\tFemale_Literate to Literate_Female\\n\\uf0d8\\tRural_Households  to Households_Rural\\n\\uf0d8\\tUrban_ Households  to Households_Urban\\n\\uf0d8\\tAge_Group_0_29 to Young_and_Adult\\n\\uf0d8\\tAge_Group_30_49 to Middle_Aged\\n\\uf0d8\\tAge_Group_50 to Senior_Citizen\\n\\uf0d8\\tAge not stated to Age_Not_Stated\\n'"
      ]
     },
     "execution_count": 5,
     "metadata": {},
     "output_type": "execute_result"
    }
   ],
   "source": [
    "\"\"\"\n",
    "Problem Statement 2: (Rename the Column names)\n",
    "\n",
    "For uniformity in the datasets and taking into consideration the census year, we need to rename some columns. \n",
    "\tState name  to State/UT\n",
    "\tDistrict name  to District\n",
    "\tMale_Literate to Literate_Male\n",
    "\tFemale_Literate to Literate_Female\n",
    "\tRural_Households  to Households_Rural\n",
    "\tUrban_ Households  to Households_Urban\n",
    "\tAge_Group_0_29 to Young_and_Adult\n",
    "\tAge_Group_30_49 to Middle_Aged\n",
    "\tAge_Group_50 to Senior_Citizen\n",
    "\tAge not stated to Age_Not_Stated\n",
    "\"\"\""
   ]
  },
  {
   "cell_type": "code",
   "execution_count": 6,
   "id": "abc53353",
   "metadata": {},
   "outputs": [
    {
     "data": {
      "text/html": [
       "<div>\n",
       "<style scoped>\n",
       "    .dataframe tbody tr th:only-of-type {\n",
       "        vertical-align: middle;\n",
       "    }\n",
       "\n",
       "    .dataframe tbody tr th {\n",
       "        vertical-align: top;\n",
       "    }\n",
       "\n",
       "    .dataframe thead th {\n",
       "        text-align: right;\n",
       "    }\n",
       "</style>\n",
       "<table border=\"1\" class=\"dataframe\">\n",
       "  <thead>\n",
       "    <tr style=\"text-align: right;\">\n",
       "      <th></th>\n",
       "      <th>State/UT</th>\n",
       "      <th>District</th>\n",
       "      <th>Population</th>\n",
       "      <th>Male</th>\n",
       "      <th>Female</th>\n",
       "      <th>Literate</th>\n",
       "      <th>Literate_Male</th>\n",
       "      <th>Literate_Female</th>\n",
       "      <th>Households_Rural</th>\n",
       "      <th>Households_Urban</th>\n",
       "      <th>Households</th>\n",
       "      <th>Young_and_Adult</th>\n",
       "      <th>Middle_Aged</th>\n",
       "      <th>Senior_Citizen</th>\n",
       "      <th>Age_Not_Stated</th>\n",
       "    </tr>\n",
       "  </thead>\n",
       "  <tbody>\n",
       "    <tr>\n",
       "      <th>0</th>\n",
       "      <td>JAMMU AND KASHMIR</td>\n",
       "      <td>Kupwara</td>\n",
       "      <td>870354.0</td>\n",
       "      <td>474190.0</td>\n",
       "      <td>396164.0</td>\n",
       "      <td>439654.0</td>\n",
       "      <td>282823.0</td>\n",
       "      <td>156831.0</td>\n",
       "      <td>158438.0</td>\n",
       "      <td>NaN</td>\n",
       "      <td>181664.0</td>\n",
       "      <td>600759.0</td>\n",
       "      <td>178435.0</td>\n",
       "      <td>89679.0</td>\n",
       "      <td>1481.0</td>\n",
       "    </tr>\n",
       "    <tr>\n",
       "      <th>1</th>\n",
       "      <td>JAMMU AND KASHMIR</td>\n",
       "      <td>Badgam</td>\n",
       "      <td>753745.0</td>\n",
       "      <td>NaN</td>\n",
       "      <td>355704.0</td>\n",
       "      <td>335649.0</td>\n",
       "      <td>207741.0</td>\n",
       "      <td>127908.0</td>\n",
       "      <td>160649.0</td>\n",
       "      <td>27190.0</td>\n",
       "      <td>187839.0</td>\n",
       "      <td>503223.0</td>\n",
       "      <td>160933.0</td>\n",
       "      <td>88978.0</td>\n",
       "      <td>611.0</td>\n",
       "    </tr>\n",
       "    <tr>\n",
       "      <th>2</th>\n",
       "      <td>JAMMU AND KASHMIR</td>\n",
       "      <td>Leh(Ladakh)</td>\n",
       "      <td>133487.0</td>\n",
       "      <td>78971.0</td>\n",
       "      <td>54516.0</td>\n",
       "      <td>93770.0</td>\n",
       "      <td>62834.0</td>\n",
       "      <td>30936.0</td>\n",
       "      <td>36920.0</td>\n",
       "      <td>17474.0</td>\n",
       "      <td>54394.0</td>\n",
       "      <td>70703.0</td>\n",
       "      <td>41515.0</td>\n",
       "      <td>NaN</td>\n",
       "      <td>250.0</td>\n",
       "    </tr>\n",
       "  </tbody>\n",
       "</table>\n",
       "</div>"
      ],
      "text/plain": [
       "            State/UT     District  Population      Male    Female  Literate  \\\n",
       "0  JAMMU AND KASHMIR      Kupwara    870354.0  474190.0  396164.0  439654.0   \n",
       "1  JAMMU AND KASHMIR       Badgam    753745.0       NaN  355704.0  335649.0   \n",
       "2  JAMMU AND KASHMIR  Leh(Ladakh)    133487.0   78971.0   54516.0   93770.0   \n",
       "\n",
       "   Literate_Male  Literate_Female  Households_Rural  Households_Urban  \\\n",
       "0       282823.0         156831.0          158438.0               NaN   \n",
       "1       207741.0         127908.0          160649.0           27190.0   \n",
       "2        62834.0          30936.0           36920.0           17474.0   \n",
       "\n",
       "   Households  Young_and_Adult  Middle_Aged  Senior_Citizen  Age_Not_Stated  \n",
       "0    181664.0         600759.0     178435.0         89679.0          1481.0  \n",
       "1    187839.0         503223.0     160933.0         88978.0           611.0  \n",
       "2     54394.0          70703.0      41515.0             NaN           250.0  "
      ]
     },
     "execution_count": 6,
     "metadata": {},
     "output_type": "execute_result"
    }
   ],
   "source": [
    "# Renaming columns as per Instruction\n",
    "columns_rename = \"\"\"State name  to State/UT\n",
    "District name  to District\n",
    "Male_Literate to Literate_Male\n",
    "Female_Literate to Literate_Female\n",
    "Rural_Households  to Households_Rural\n",
    "Urban_Households  to Households_Urban\n",
    "Age_Group_0_29 to Young_and_Adult\n",
    "Age_Group_30_49 to Middle_Aged\n",
    "Age_Group_50 to Senior_Citizen\n",
    "Age not stated to Age_Not_Stated\"\"\"\n",
    "rename_dict = {k.strip(): v.strip() for k,v in map(lambda x: x.split(\" to \"), columns_rename.split(\"\\n\"))}\n",
    "\n",
    "census_renamed_cols = census.rename(rename_dict, axis=1)\n",
    "census_renamed_cols.head(3)"
   ]
  },
  {
   "cell_type": "markdown",
   "id": "c7b6a81c",
   "metadata": {},
   "source": [
    "### Problem 3"
   ]
  },
  {
   "cell_type": "code",
   "execution_count": 7,
   "id": "b5514b3a",
   "metadata": {},
   "outputs": [
    {
     "data": {
      "text/plain": [
       "'\\nProblem Statement 3: (Rename State/UT Names)\\n\\nThe State/UT names are in all caps in the census data, For uniformity across datasets we use the names so that only the first character of each word in the name is in upper case and the rest are in lower case. However, if the word is “and” then it should be all lowercase.\\nExamples: \\n\\uf0d8\\tAndaman and Nicobar Islands\\n\\uf0d8\\tArunachal Pradesh\\n\\uf0d8\\tBihar\\n'"
      ]
     },
     "execution_count": 7,
     "metadata": {},
     "output_type": "execute_result"
    }
   ],
   "source": [
    "\"\"\"\n",
    "Problem Statement 3: (Rename State/UT Names)\n",
    "\n",
    "The State/UT names are in all caps in the census data, For uniformity across datasets we use the names so that only the first character of each word in the name is in upper case and the rest are in lower case. However, if the word is “and” then it should be all lowercase.\n",
    "Examples: \n",
    "\tAndaman and Nicobar Islands\n",
    "\tArunachal Pradesh\n",
    "\tBihar\n",
    "\"\"\""
   ]
  },
  {
   "cell_type": "code",
   "execution_count": 8,
   "id": "07057d6b",
   "metadata": {},
   "outputs": [],
   "source": [
    "def state_name_correction(df, col):\n",
    "    df[col] = df[col].str.lower()\n",
    "    \n",
    "    df[col] = df[col].str.replace(\"&\", \"and\")\n",
    "    \n",
    "    # Renaming the State Names as per Instructions given\n",
    "    # First I am title casing the state name so all work first letterbecomes Caps, then I am manually replacing \"And\" with \"and\"\n",
    "    df[col] = df[col].apply(lambda state_name: state_name.title().replace(' And ', ' and '))\n",
    "    \n",
    "    # Govt data has *, hence replacing them\n",
    "    df[col] = df[col].str.replace(\"*\", \"\", regex=False)\n",
    "    replace_names = {\n",
    "        \"Puducherry\": \"Pondicherry\",\n",
    "        \"Delhi\": \"Nct Of Delhi\",\n",
    "        \"Odisha\": \"Orissa\",\n",
    "        \"All India\": \"India\"\n",
    "    }\n",
    "    df[col] = df[col].replace(replace_names)\n",
    "    \n",
    "    return df"
   ]
  },
  {
   "cell_type": "code",
   "execution_count": 9,
   "id": "95664e5d",
   "metadata": {},
   "outputs": [
    {
     "data": {
      "text/plain": [
       "array(['Jammu and Kashmir', 'Himachal Pradesh', 'Punjab', 'Chandigarh',\n",
       "       'Uttarakhand', 'Haryana', 'Nct Of Delhi', 'Rajasthan',\n",
       "       'Uttar Pradesh', 'Bihar', 'Sikkim', 'Arunachal Pradesh',\n",
       "       'Nagaland', 'Manipur', 'Mizoram', 'Tripura', 'Meghalaya', 'Assam',\n",
       "       'West Bengal', 'Jharkhand', 'Orissa', 'Chhattisgarh',\n",
       "       'Madhya Pradesh', 'Gujarat', 'Daman and Diu',\n",
       "       'Dadra and Nagar Haveli', 'Maharashtra', 'Andhra Pradesh',\n",
       "       'Karnataka', 'Goa', 'Lakshadweep', 'Kerala', 'Tamil Nadu',\n",
       "       'Pondicherry', 'Andaman and Nicobar Islands'], dtype=object)"
      ]
     },
     "execution_count": 9,
     "metadata": {},
     "output_type": "execute_result"
    }
   ],
   "source": [
    "census_renamed_cols = state_name_correction(census_renamed_cols, \"State/UT\")\n",
    "census_renamed_cols = state_name_correction(census_renamed_cols, \"District\")\n",
    "census_renamed_cols['State/UT'].unique()"
   ]
  },
  {
   "cell_type": "markdown",
   "id": "37379ea1",
   "metadata": {},
   "source": [
    "### Problem 4"
   ]
  },
  {
   "cell_type": "code",
   "execution_count": 10,
   "id": "2a9cf997",
   "metadata": {},
   "outputs": [
    {
     "data": {
      "text/plain": [
       "'\\nProblem Statement 4: (New State/UT formation)\\n\\n\\uf0d8\\tIn 2014 Telangana was formed after it split from Andhra Pradesh, The districts that were included in Telangana are stored in Data/Telangana.txt . Read the text file and Rename the State/UT From “Andhra Pradesh” to “Telangana” for the given districts.\\n\\n\\uf0d8\\tIn 2019 Laddakh was formed after it split from Jammu and Kashmir, which included the districts Leh and Kargil.  Rename the State/UT From “Jammu and Kashmir” to “Laddakh” for the given districts. \\n'"
      ]
     },
     "execution_count": 10,
     "metadata": {},
     "output_type": "execute_result"
    }
   ],
   "source": [
    "\"\"\"\n",
    "Problem Statement 4: (New State/UT formation)\n",
    "\n",
    "\tIn 2014 Telangana was formed after it split from Andhra Pradesh, The districts that were included in Telangana are stored in Data/Telangana.txt . Read the text file and Rename the State/UT From “Andhra Pradesh” to “Telangana” for the given districts.\n",
    "\n",
    "\tIn 2019 Laddakh was formed after it split from Jammu and Kashmir, which included the districts Leh and Kargil.  Rename the State/UT From “Jammu and Kashmir” to “Laddakh” for the given districts. \n",
    "\"\"\""
   ]
  },
  {
   "cell_type": "code",
   "execution_count": 11,
   "id": "38b01717",
   "metadata": {},
   "outputs": [],
   "source": [
    "# I am reading the file given and storing the data in a teleagana_dict list\n",
    "def get_state_district_mapping():\n",
    "    telegana_dist = []\n",
    "    file_path = \"Data/Telangana.txt\"\n",
    "    with open(file_path) as f:\n",
    "        for l in f.readlines():\n",
    "            if l is not None:\n",
    "                telegana_dist.append(l.strip().lower())\n",
    "\n",
    "    # I am manullay storing distrit list in list\n",
    "    laddak_dict = ['Leh(Ladakh)', \"Kargil\"]\n",
    "\n",
    "    # Creating a mapping dictionary\n",
    "    state_district_mapping = {\n",
    "        \"Telangana\" : telegana_dist,\n",
    "        \"Laddakh\": laddak_dict\n",
    "    }\n",
    "    return state_district_mapping\n",
    "\n",
    "def map_state_dict(state_district_row):\n",
    "    # I am checking for every state-district mapping, if the district is present in state list, if yes returning the state name else return same state name\n",
    "    def_state_name, district_name = state_district_row\n",
    "    state_district_mapping = get_state_district_mapping()\n",
    "    for state_name, dist_list in state_district_mapping.items():\n",
    "        if district_name.lower() in dist_list:\n",
    "            return state_name\n",
    "    return def_state_name"
   ]
  },
  {
   "cell_type": "code",
   "execution_count": 12,
   "id": "177504b4",
   "metadata": {
    "scrolled": true
   },
   "outputs": [
    {
     "data": {
      "text/plain": [
       "array(['Jammu and Kashmir', 'Himachal Pradesh', 'Punjab', 'Chandigarh',\n",
       "       'Uttarakhand', 'Haryana', 'Nct Of Delhi', 'Rajasthan',\n",
       "       'Uttar Pradesh', 'Bihar', 'Sikkim', 'Arunachal Pradesh',\n",
       "       'Nagaland', 'Manipur', 'Mizoram', 'Tripura', 'Meghalaya', 'Assam',\n",
       "       'West Bengal', 'Jharkhand', 'Orissa', 'Chhattisgarh',\n",
       "       'Madhya Pradesh', 'Gujarat', 'Daman and Diu',\n",
       "       'Dadra and Nagar Haveli', 'Maharashtra', 'Telangana',\n",
       "       'Andhra Pradesh', 'Karnataka', 'Goa', 'Lakshadweep', 'Kerala',\n",
       "       'Tamil Nadu', 'Pondicherry', 'Andaman and Nicobar Islands'],\n",
       "      dtype=object)"
      ]
     },
     "execution_count": 12,
     "metadata": {},
     "output_type": "execute_result"
    }
   ],
   "source": [
    "# I am taking state and distrcit name then pass to my Fn\n",
    "census_renamed_cols['State/UT'] = census_renamed_cols[['State/UT', 'District']].apply(map_state_dict, axis=1)\n",
    "census_renamed_cols['State/UT'].unique()"
   ]
  },
  {
   "cell_type": "markdown",
   "id": "6a6f1de5",
   "metadata": {},
   "source": [
    "### Problem 5"
   ]
  },
  {
   "cell_type": "code",
   "execution_count": 13,
   "id": "7fd927c0",
   "metadata": {},
   "outputs": [
    {
     "data": {
      "text/plain": [
       "'\\nProblem Statement 5: (Find and process Missing Data)\\nFind and store the percentage of data missing for each column.\\nSome data can be found and filled in by using information from other cells. Try to find the correct data by using information from other cells and filling it in. Find and store the percentage of data missing for each column.\\n\\nHint:\\n\\uf0d8\\tPopulation = Male + Female\\n\\uf0d8\\tLiterate = Literate_Male + Literate_Female\\n\\uf0d8\\tPopulation  = Young_and_Adult+  Middle_Aged + Senior_Citizen + Age_Not_Stated\\n\\uf0d8\\tHouseholds = Households_Rural + Households_Urban \\n\\nCreate a visualization that compares the amount of missing data before and after the data-filling process was done. \\n'"
      ]
     },
     "execution_count": 13,
     "metadata": {},
     "output_type": "execute_result"
    }
   ],
   "source": [
    "\"\"\"\n",
    "Problem Statement 5: (Find and process Missing Data)\n",
    "Find and store the percentage of data missing for each column.\n",
    "Some data can be found and filled in by using information from other cells. Try to find the correct data by using information from other cells and filling it in. Find and store the percentage of data missing for each column.\n",
    "\n",
    "Hint:\n",
    "\tPopulation = Male + Female\n",
    "\tLiterate = Literate_Male + Literate_Female\n",
    "\tPopulation  = Young_and_Adult+  Middle_Aged + Senior_Citizen + Age_Not_Stated\n",
    "\tHouseholds = Households_Rural + Households_Urban \n",
    "\n",
    "Create a visualization that compares the amount of missing data before and after the data-filling process was done. \n",
    "\"\"\""
   ]
  },
  {
   "cell_type": "code",
   "execution_count": 14,
   "id": "60f54bd6",
   "metadata": {},
   "outputs": [
    {
     "data": {
      "text/plain": [
       "State/UT             0\n",
       "District             0\n",
       "Population          30\n",
       "Male                30\n",
       "Female              33\n",
       "Literate            36\n",
       "Literate_Male       31\n",
       "Literate_Female     27\n",
       "Households_Rural    42\n",
       "Households_Urban    33\n",
       "Households          32\n",
       "Young_and_Adult     31\n",
       "Middle_Aged         30\n",
       "Senior_Citizen      31\n",
       "Age_Not_Stated      35\n",
       "dtype: int64"
      ]
     },
     "execution_count": 14,
     "metadata": {},
     "output_type": "execute_result"
    }
   ],
   "source": [
    "census_renamed_cols.isna().sum()"
   ]
  },
  {
   "cell_type": "code",
   "execution_count": 15,
   "id": "b79462ac",
   "metadata": {},
   "outputs": [
    {
     "data": {
      "text/plain": [
       "State/UT            0.00000\n",
       "District            0.00000\n",
       "Population          4.68750\n",
       "Male                4.68750\n",
       "Female              5.15625\n",
       "Literate            5.62500\n",
       "Literate_Male       4.84375\n",
       "Literate_Female     4.21875\n",
       "Households_Rural    6.56250\n",
       "Households_Urban    5.15625\n",
       "Households          5.00000\n",
       "Young_and_Adult     4.84375\n",
       "Middle_Aged         4.68750\n",
       "Senior_Citizen      4.84375\n",
       "Age_Not_Stated      5.46875\n",
       "dtype: float64"
      ]
     },
     "execution_count": 15,
     "metadata": {},
     "output_type": "execute_result"
    }
   ],
   "source": [
    "percet_na_missing = census_renamed_cols.isna().sum()/census_renamed_cols.shape[0] * 100\n",
    "percet_na_missing"
   ]
  },
  {
   "cell_type": "code",
   "execution_count": 16,
   "id": "9532460f",
   "metadata": {},
   "outputs": [],
   "source": [
    "# Population = Male + Female\n",
    "census_renamed_cols.loc[census_renamed_cols['Population'].isna(), \"Population\"] = census_renamed_cols[census_renamed_cols['Population'].isna()][\"Male\"] + census_renamed_cols[census_renamed_cols['Population'].isna()][\"Female\"] \n",
    "\n",
    "\n",
    "worker_cols = [\"Workers\", \"Non_Workers\"]\n",
    "census_renamed_cols[worker_cols] = pd.read_csv(\"Data/census_2011.csv\", usecols=worker_cols)\n",
    "\n",
    "# Still One Value is missing, Hence I added Worker and Non-Worker column\n",
    "census_renamed_cols.loc[census_renamed_cols['Population'].isna(), \"Population\"] = census_renamed_cols[census_renamed_cols['Population'].isna()][\"Workers\"] + census_renamed_cols[census_renamed_cols['Population'].isna()][\"Non_Workers\"] \n",
    "\n",
    "# Dropping added columns\n",
    "census_renamed_cols = census_renamed_cols.drop([\"Workers\", \"Non_Workers\"], axis=1)"
   ]
  },
  {
   "cell_type": "code",
   "execution_count": 17,
   "id": "2e83b03e",
   "metadata": {},
   "outputs": [],
   "source": [
    "#Filling the Male and Female Population\n",
    "\n",
    "# Male = Population - Female\n",
    "census_renamed_cols.loc[census_renamed_cols['Male'].isna(), \"Male\"] = census_renamed_cols.loc[census_renamed_cols['Male'].isna()][\"Population\"] - census_renamed_cols.loc[census_renamed_cols['Male'].isna()][\"Female\"]\n",
    "\n",
    "# Female = Population - Male\n",
    "census_renamed_cols.loc[census_renamed_cols['Female'].isna(), \"Female\"] = census_renamed_cols.loc[census_renamed_cols['Female'].isna()][\"Population\"] - census_renamed_cols.loc[census_renamed_cols['Female'].isna()][\"Male\"]"
   ]
  },
  {
   "cell_type": "code",
   "execution_count": 18,
   "id": "6956235e",
   "metadata": {},
   "outputs": [],
   "source": [
    "# Literate = Literate_Male + Literate_Female\n",
    "census_renamed_cols.loc[census_renamed_cols['Literate'].isna(), \"Literate\"] = census_renamed_cols.loc[census_renamed_cols['Literate'].isna()][\"Literate_Male\"] + census_renamed_cols.loc[census_renamed_cols['Literate'].isna()][\"Literate_Female\"]\n",
    "\n",
    "# Literate_Male = Literate - Literate_Female\n",
    "census_renamed_cols.loc[census_renamed_cols['Literate_Male'].isna(), \"Literate_Male\"] = census_renamed_cols.loc[census_renamed_cols['Literate_Male'].isna()][\"Literate\"] - census_renamed_cols.loc[census_renamed_cols['Literate_Male'].isna()][\"Literate_Female\"]\n",
    "\n",
    "# Literate_Female = Literate - Literate_Male\n",
    "census_renamed_cols.loc[census_renamed_cols['Literate_Female'].isna(), \"Literate_Female\"] = census_renamed_cols.loc[census_renamed_cols['Literate_Female'].isna()][\"Literate\"] - census_renamed_cols.loc[census_renamed_cols['Literate_Female'].isna()][\"Literate_Male\"]"
   ]
  },
  {
   "cell_type": "code",
   "execution_count": 19,
   "id": "629d4b55",
   "metadata": {},
   "outputs": [
    {
     "data": {
      "text/html": [
       "<div>\n",
       "<style scoped>\n",
       "    .dataframe tbody tr th:only-of-type {\n",
       "        vertical-align: middle;\n",
       "    }\n",
       "\n",
       "    .dataframe tbody tr th {\n",
       "        vertical-align: top;\n",
       "    }\n",
       "\n",
       "    .dataframe thead th {\n",
       "        text-align: right;\n",
       "    }\n",
       "</style>\n",
       "<table border=\"1\" class=\"dataframe\">\n",
       "  <thead>\n",
       "    <tr style=\"text-align: right;\">\n",
       "      <th></th>\n",
       "      <th>State/UT</th>\n",
       "      <th>District</th>\n",
       "      <th>Population</th>\n",
       "      <th>Male</th>\n",
       "      <th>Female</th>\n",
       "      <th>Literate</th>\n",
       "      <th>Literate_Male</th>\n",
       "      <th>Literate_Female</th>\n",
       "      <th>Households_Rural</th>\n",
       "      <th>Households_Urban</th>\n",
       "      <th>Households</th>\n",
       "      <th>Young_and_Adult</th>\n",
       "      <th>Middle_Aged</th>\n",
       "      <th>Senior_Citizen</th>\n",
       "      <th>Age_Not_Stated</th>\n",
       "    </tr>\n",
       "  </thead>\n",
       "  <tbody>\n",
       "    <tr>\n",
       "      <th>329</th>\n",
       "      <td>West Bengal</td>\n",
       "      <td>Uttar Dinajpur</td>\n",
       "      <td>3007134.0</td>\n",
       "      <td>1551066.0</td>\n",
       "      <td>1456068.0</td>\n",
       "      <td>NaN</td>\n",
       "      <td>853495.0</td>\n",
       "      <td>NaN</td>\n",
       "      <td>683981.0</td>\n",
       "      <td>94269.0</td>\n",
       "      <td>778250.0</td>\n",
       "      <td>1916033.0</td>\n",
       "      <td>704859.0</td>\n",
       "      <td>385155.0</td>\n",
       "      <td>1087.0</td>\n",
       "    </tr>\n",
       "    <tr>\n",
       "      <th>349</th>\n",
       "      <td>Jharkhand</td>\n",
       "      <td>Deoghar</td>\n",
       "      <td>1492073.0</td>\n",
       "      <td>775022.0</td>\n",
       "      <td>717051.0</td>\n",
       "      <td>793538.0</td>\n",
       "      <td>NaN</td>\n",
       "      <td>NaN</td>\n",
       "      <td>257373.0</td>\n",
       "      <td>64337.0</td>\n",
       "      <td>321710.0</td>\n",
       "      <td>944961.0</td>\n",
       "      <td>338413.0</td>\n",
       "      <td>205514.0</td>\n",
       "      <td>3185.0</td>\n",
       "    </tr>\n",
       "    <tr>\n",
       "      <th>568</th>\n",
       "      <td>Karnataka</td>\n",
       "      <td>Udupi</td>\n",
       "      <td>1177361.0</td>\n",
       "      <td>562131.0</td>\n",
       "      <td>615230.0</td>\n",
       "      <td>NaN</td>\n",
       "      <td>NaN</td>\n",
       "      <td>460725.0</td>\n",
       "      <td>269817.0</td>\n",
       "      <td>115572.0</td>\n",
       "      <td>385389.0</td>\n",
       "      <td>NaN</td>\n",
       "      <td>340903.0</td>\n",
       "      <td>276234.0</td>\n",
       "      <td>659.0</td>\n",
       "    </tr>\n",
       "  </tbody>\n",
       "</table>\n",
       "</div>"
      ],
      "text/plain": [
       "        State/UT        District  Population       Male     Female  Literate  \\\n",
       "329  West Bengal  Uttar Dinajpur   3007134.0  1551066.0  1456068.0       NaN   \n",
       "349    Jharkhand         Deoghar   1492073.0   775022.0   717051.0  793538.0   \n",
       "568    Karnataka           Udupi   1177361.0   562131.0   615230.0       NaN   \n",
       "\n",
       "     Literate_Male  Literate_Female  Households_Rural  Households_Urban  \\\n",
       "329       853495.0              NaN          683981.0           94269.0   \n",
       "349            NaN              NaN          257373.0           64337.0   \n",
       "568            NaN         460725.0          269817.0          115572.0   \n",
       "\n",
       "     Households  Young_and_Adult  Middle_Aged  Senior_Citizen  Age_Not_Stated  \n",
       "329    778250.0        1916033.0     704859.0        385155.0          1087.0  \n",
       "349    321710.0         944961.0     338413.0        205514.0          3185.0  \n",
       "568    385389.0              NaN     340903.0        276234.0           659.0  "
      ]
     },
     "execution_count": 19,
     "metadata": {},
     "output_type": "execute_result"
    }
   ],
   "source": [
    "# Still I could see there are three rows with Null values\n",
    "census_renamed_cols.loc[census_renamed_cols['Literate'].isna() | census_renamed_cols['Literate_Male'].isna() | census_renamed_cols['Literate_Female'].isna()]"
   ]
  },
  {
   "cell_type": "code",
   "execution_count": 20,
   "id": "a534ecda",
   "metadata": {},
   "outputs": [
    {
     "name": "stdout",
     "output_type": "stream",
     "text": [
      "['Below_Primary_Education', 'Primary_Education', 'Middle_Education', 'Secondary_Education', 'Higher_Education', 'Graduate_Education', 'Other_Education', 'Literate_Education', 'Illiterate_Education', 'Total_Education']\n"
     ]
    }
   ],
   "source": [
    "# Passing the columns for filtering\n",
    "columns = '''Below_Primary_Education\n",
    "Primary_Education\n",
    "Middle_Education\n",
    "Secondary_Education\n",
    "Higher_Education\n",
    "Graduate_Education\n",
    "Other_Education\n",
    "Literate_Education\n",
    "Illiterate_Education\n",
    "Total_Education'''\n",
    "columns_needed = columns.split(\"\\n\")\n",
    "print(columns_needed)"
   ]
  },
  {
   "cell_type": "code",
   "execution_count": 21,
   "id": "73bc408b",
   "metadata": {},
   "outputs": [],
   "source": [
    "education_details = pd.read_csv(\"Data/census_2011.csv\", usecols=columns_needed)"
   ]
  },
  {
   "cell_type": "code",
   "execution_count": 22,
   "id": "4a00b151",
   "metadata": {},
   "outputs": [
    {
     "data": {
      "text/plain": [
       "0      344399.0\n",
       "1      306636.0\n",
       "2       65041.0\n",
       "3       32394.0\n",
       "4      160644.0\n",
       "         ...   \n",
       "635     33910.0\n",
       "636    135618.0\n",
       "637     21672.0\n",
       "638     71199.0\n",
       "639    143623.0\n",
       "Length: 640, dtype: float64"
      ]
     },
     "execution_count": 22,
     "metadata": {},
     "output_type": "execute_result"
    }
   ],
   "source": [
    "education_columns_without_below_primary_education = ['Primary_Education', 'Middle_Education', 'Secondary_Education', 'Higher_Education', 'Graduate_Education', 'Other_Education']\n",
    "education_details[education_columns_without_below_primary_education].sum(axis=1)"
   ]
  },
  {
   "cell_type": "code",
   "execution_count": 23,
   "id": "ceb86aa7",
   "metadata": {},
   "outputs": [
    {
     "data": {
      "text/plain": [
       "0.9900199590468538"
      ]
     },
     "execution_count": 23,
     "metadata": {},
     "output_type": "execute_result"
    }
   ],
   "source": [
    "# I could see a correlation of 99% bt Literate and Education columns not considering Below Primary Educayion\n",
    "# So I am mapping the data from education details since I cannot find any way to directly find the Null values\n",
    "res = education_details[\"Literate_Education\"] - education_details[\"Below_Primary_Education\"]\n",
    "census_renamed_cols[\"Literate\"].corr(res)"
   ]
  },
  {
   "cell_type": "code",
   "execution_count": 24,
   "id": "d695f26e",
   "metadata": {},
   "outputs": [],
   "source": [
    "index_with_literate_null = census_renamed_cols.loc[census_renamed_cols[\"Literate\"].isna(), \"Literate\"].index\n",
    "census_renamed_cols.loc[census_renamed_cols[\"Literate\"].isna(), \"Literate\"] = education_details.loc[index_with_literate_null, \"Literate_Education\"] - education_details.loc[index_with_literate_null, \"Below_Primary_Education\"]"
   ]
  },
  {
   "cell_type": "code",
   "execution_count": 25,
   "id": "8df6eb74",
   "metadata": {},
   "outputs": [
    {
     "data": {
      "text/html": [
       "<div>\n",
       "<style scoped>\n",
       "    .dataframe tbody tr th:only-of-type {\n",
       "        vertical-align: middle;\n",
       "    }\n",
       "\n",
       "    .dataframe tbody tr th {\n",
       "        vertical-align: top;\n",
       "    }\n",
       "\n",
       "    .dataframe thead th {\n",
       "        text-align: right;\n",
       "    }\n",
       "</style>\n",
       "<table border=\"1\" class=\"dataframe\">\n",
       "  <thead>\n",
       "    <tr style=\"text-align: right;\">\n",
       "      <th></th>\n",
       "      <th>State/UT</th>\n",
       "      <th>District</th>\n",
       "      <th>Population</th>\n",
       "      <th>Male</th>\n",
       "      <th>Female</th>\n",
       "      <th>Literate</th>\n",
       "      <th>Literate_Male</th>\n",
       "      <th>Literate_Female</th>\n",
       "      <th>Households_Rural</th>\n",
       "      <th>Households_Urban</th>\n",
       "      <th>Households</th>\n",
       "      <th>Young_and_Adult</th>\n",
       "      <th>Middle_Aged</th>\n",
       "      <th>Senior_Citizen</th>\n",
       "      <th>Age_Not_Stated</th>\n",
       "    </tr>\n",
       "  </thead>\n",
       "  <tbody>\n",
       "    <tr>\n",
       "      <th>329</th>\n",
       "      <td>West Bengal</td>\n",
       "      <td>Uttar Dinajpur</td>\n",
       "      <td>3007134.0</td>\n",
       "      <td>1551066.0</td>\n",
       "      <td>1456068.0</td>\n",
       "      <td>1219505.0</td>\n",
       "      <td>853495.0</td>\n",
       "      <td>NaN</td>\n",
       "      <td>683981.0</td>\n",
       "      <td>94269.0</td>\n",
       "      <td>778250.0</td>\n",
       "      <td>1916033.0</td>\n",
       "      <td>704859.0</td>\n",
       "      <td>385155.0</td>\n",
       "      <td>1087.0</td>\n",
       "    </tr>\n",
       "    <tr>\n",
       "      <th>349</th>\n",
       "      <td>Jharkhand</td>\n",
       "      <td>Deoghar</td>\n",
       "      <td>1492073.0</td>\n",
       "      <td>775022.0</td>\n",
       "      <td>717051.0</td>\n",
       "      <td>793538.0</td>\n",
       "      <td>NaN</td>\n",
       "      <td>NaN</td>\n",
       "      <td>257373.0</td>\n",
       "      <td>64337.0</td>\n",
       "      <td>321710.0</td>\n",
       "      <td>944961.0</td>\n",
       "      <td>338413.0</td>\n",
       "      <td>205514.0</td>\n",
       "      <td>3185.0</td>\n",
       "    </tr>\n",
       "    <tr>\n",
       "      <th>568</th>\n",
       "      <td>Karnataka</td>\n",
       "      <td>Udupi</td>\n",
       "      <td>1177361.0</td>\n",
       "      <td>562131.0</td>\n",
       "      <td>615230.0</td>\n",
       "      <td>875933.0</td>\n",
       "      <td>NaN</td>\n",
       "      <td>460725.0</td>\n",
       "      <td>269817.0</td>\n",
       "      <td>115572.0</td>\n",
       "      <td>385389.0</td>\n",
       "      <td>NaN</td>\n",
       "      <td>340903.0</td>\n",
       "      <td>276234.0</td>\n",
       "      <td>659.0</td>\n",
       "    </tr>\n",
       "  </tbody>\n",
       "</table>\n",
       "</div>"
      ],
      "text/plain": [
       "        State/UT        District  Population       Male     Female   Literate  \\\n",
       "329  West Bengal  Uttar Dinajpur   3007134.0  1551066.0  1456068.0  1219505.0   \n",
       "349    Jharkhand         Deoghar   1492073.0   775022.0   717051.0   793538.0   \n",
       "568    Karnataka           Udupi   1177361.0   562131.0   615230.0   875933.0   \n",
       "\n",
       "     Literate_Male  Literate_Female  Households_Rural  Households_Urban  \\\n",
       "329       853495.0              NaN          683981.0           94269.0   \n",
       "349            NaN              NaN          257373.0           64337.0   \n",
       "568            NaN         460725.0          269817.0          115572.0   \n",
       "\n",
       "     Households  Young_and_Adult  Middle_Aged  Senior_Citizen  Age_Not_Stated  \n",
       "329    778250.0        1916033.0     704859.0        385155.0          1087.0  \n",
       "349    321710.0         944961.0     338413.0        205514.0          3185.0  \n",
       "568    385389.0              NaN     340903.0        276234.0           659.0  "
      ]
     },
     "execution_count": 25,
     "metadata": {},
     "output_type": "execute_result"
    }
   ],
   "source": [
    "# Still I could see there are rows with Null values\n",
    "census_renamed_cols.loc[census_renamed_cols['Literate'].isna() | census_renamed_cols['Literate_Male'].isna() | census_renamed_cols['Literate_Female'].isna()]"
   ]
  },
  {
   "cell_type": "code",
   "execution_count": 26,
   "id": "64ba3b5d",
   "metadata": {},
   "outputs": [],
   "source": [
    "# After Filling Lterate, we can run same method which we used to fill Literate_Male and Literate_Female values\n",
    "\n",
    "# Literate = Literate_Male + Literate_Female\n",
    "census_renamed_cols.loc[census_renamed_cols['Literate'].isna(), \"Literate\"] = census_renamed_cols.loc[census_renamed_cols['Literate'].isna()][\"Literate_Male\"] + census_renamed_cols.loc[census_renamed_cols['Literate'].isna()][\"Literate_Female\"]\n",
    "\n",
    "# Literate_Male = Literate - Literate_Female\n",
    "census_renamed_cols.loc[census_renamed_cols['Literate_Male'].isna(), \"Literate_Male\"] = census_renamed_cols.loc[census_renamed_cols['Literate_Male'].isna()][\"Literate\"] - census_renamed_cols.loc[census_renamed_cols['Literate_Male'].isna()][\"Literate_Female\"]\n",
    "\n",
    "# Literate_Female = Literate - Literate_Male\n",
    "census_renamed_cols.loc[census_renamed_cols['Literate_Female'].isna(), \"Literate_Female\"] = census_renamed_cols.loc[census_renamed_cols['Literate_Female'].isna()][\"Literate\"] - census_renamed_cols.loc[census_renamed_cols['Literate_Female'].isna()][\"Literate_Male\"]"
   ]
  },
  {
   "cell_type": "code",
   "execution_count": 27,
   "id": "8271e20c",
   "metadata": {},
   "outputs": [
    {
     "data": {
      "text/html": [
       "<div>\n",
       "<style scoped>\n",
       "    .dataframe tbody tr th:only-of-type {\n",
       "        vertical-align: middle;\n",
       "    }\n",
       "\n",
       "    .dataframe tbody tr th {\n",
       "        vertical-align: top;\n",
       "    }\n",
       "\n",
       "    .dataframe thead th {\n",
       "        text-align: right;\n",
       "    }\n",
       "</style>\n",
       "<table border=\"1\" class=\"dataframe\">\n",
       "  <thead>\n",
       "    <tr style=\"text-align: right;\">\n",
       "      <th></th>\n",
       "      <th>State/UT</th>\n",
       "      <th>District</th>\n",
       "      <th>Population</th>\n",
       "      <th>Male</th>\n",
       "      <th>Female</th>\n",
       "      <th>Literate</th>\n",
       "      <th>Literate_Male</th>\n",
       "      <th>Literate_Female</th>\n",
       "      <th>Households_Rural</th>\n",
       "      <th>Households_Urban</th>\n",
       "      <th>Households</th>\n",
       "      <th>Young_and_Adult</th>\n",
       "      <th>Middle_Aged</th>\n",
       "      <th>Senior_Citizen</th>\n",
       "      <th>Age_Not_Stated</th>\n",
       "    </tr>\n",
       "  </thead>\n",
       "  <tbody>\n",
       "    <tr>\n",
       "      <th>349</th>\n",
       "      <td>Jharkhand</td>\n",
       "      <td>Deoghar</td>\n",
       "      <td>1492073.0</td>\n",
       "      <td>775022.0</td>\n",
       "      <td>717051.0</td>\n",
       "      <td>793538.0</td>\n",
       "      <td>NaN</td>\n",
       "      <td>NaN</td>\n",
       "      <td>257373.0</td>\n",
       "      <td>64337.0</td>\n",
       "      <td>321710.0</td>\n",
       "      <td>944961.0</td>\n",
       "      <td>338413.0</td>\n",
       "      <td>205514.0</td>\n",
       "      <td>3185.0</td>\n",
       "    </tr>\n",
       "  </tbody>\n",
       "</table>\n",
       "</div>"
      ],
      "text/plain": [
       "      State/UT District  Population      Male    Female  Literate  \\\n",
       "349  Jharkhand  Deoghar   1492073.0  775022.0  717051.0  793538.0   \n",
       "\n",
       "     Literate_Male  Literate_Female  Households_Rural  Households_Urban  \\\n",
       "349            NaN              NaN          257373.0           64337.0   \n",
       "\n",
       "     Households  Young_and_Adult  Middle_Aged  Senior_Citizen  Age_Not_Stated  \n",
       "349    321710.0         944961.0     338413.0        205514.0          3185.0  "
      ]
     },
     "execution_count": 27,
     "metadata": {},
     "output_type": "execute_result"
    }
   ],
   "source": [
    "# Still I could see there are one rows with Null values\n",
    "census_renamed_cols.loc[census_renamed_cols['Literate'].isna() | census_renamed_cols['Literate_Male'].isna() | census_renamed_cols['Literate_Female'].isna()]"
   ]
  },
  {
   "cell_type": "code",
   "execution_count": 28,
   "id": "0c2e0f83",
   "metadata": {},
   "outputs": [],
   "source": [
    "census_renamed_cols[\"Literate_Male_percent\"] = (census_renamed_cols[\"Literate_Male\"]*100/census_renamed_cols[\"Literate\"])\n",
    "census_renamed_cols[\"Literate_Female_percent\"] = census_renamed_cols[\"Literate_Female\"]*100/census_renamed_cols[\"Literate\"]"
   ]
  },
  {
   "cell_type": "code",
   "execution_count": 29,
   "id": "a3811046",
   "metadata": {
    "scrolled": true
   },
   "outputs": [
    {
     "data": {
      "text/html": [
       "<div>\n",
       "<style scoped>\n",
       "    .dataframe tbody tr th:only-of-type {\n",
       "        vertical-align: middle;\n",
       "    }\n",
       "\n",
       "    .dataframe tbody tr th {\n",
       "        vertical-align: top;\n",
       "    }\n",
       "\n",
       "    .dataframe thead th {\n",
       "        text-align: right;\n",
       "    }\n",
       "</style>\n",
       "<table border=\"1\" class=\"dataframe\">\n",
       "  <thead>\n",
       "    <tr style=\"text-align: right;\">\n",
       "      <th></th>\n",
       "      <th>State/UT</th>\n",
       "      <th>District</th>\n",
       "      <th>Literate_Male_percent</th>\n",
       "      <th>Literate_Female_percent</th>\n",
       "    </tr>\n",
       "  </thead>\n",
       "  <tbody>\n",
       "    <tr>\n",
       "      <th>345</th>\n",
       "      <td>Jharkhand</td>\n",
       "      <td>Garhwa</td>\n",
       "      <td>62.000900</td>\n",
       "      <td>37.999100</td>\n",
       "    </tr>\n",
       "    <tr>\n",
       "      <th>346</th>\n",
       "      <td>Jharkhand</td>\n",
       "      <td>Chatra</td>\n",
       "      <td>59.581501</td>\n",
       "      <td>40.418499</td>\n",
       "    </tr>\n",
       "    <tr>\n",
       "      <th>347</th>\n",
       "      <td>Jharkhand</td>\n",
       "      <td>Kodarma</td>\n",
       "      <td>61.186576</td>\n",
       "      <td>38.813424</td>\n",
       "    </tr>\n",
       "    <tr>\n",
       "      <th>348</th>\n",
       "      <td>Jharkhand</td>\n",
       "      <td>Giridih</td>\n",
       "      <td>62.525060</td>\n",
       "      <td>37.474940</td>\n",
       "    </tr>\n",
       "    <tr>\n",
       "      <th>349</th>\n",
       "      <td>Jharkhand</td>\n",
       "      <td>Deoghar</td>\n",
       "      <td>NaN</td>\n",
       "      <td>NaN</td>\n",
       "    </tr>\n",
       "    <tr>\n",
       "      <th>350</th>\n",
       "      <td>Jharkhand</td>\n",
       "      <td>Godda</td>\n",
       "      <td>62.233280</td>\n",
       "      <td>37.766720</td>\n",
       "    </tr>\n",
       "    <tr>\n",
       "      <th>351</th>\n",
       "      <td>Jharkhand</td>\n",
       "      <td>Sahibganj</td>\n",
       "      <td>59.450651</td>\n",
       "      <td>40.549349</td>\n",
       "    </tr>\n",
       "    <tr>\n",
       "      <th>352</th>\n",
       "      <td>Jharkhand</td>\n",
       "      <td>Pakur</td>\n",
       "      <td>58.656884</td>\n",
       "      <td>41.343116</td>\n",
       "    </tr>\n",
       "    <tr>\n",
       "      <th>353</th>\n",
       "      <td>Jharkhand</td>\n",
       "      <td>Dhanbad</td>\n",
       "      <td>58.933204</td>\n",
       "      <td>41.066796</td>\n",
       "    </tr>\n",
       "    <tr>\n",
       "      <th>354</th>\n",
       "      <td>Jharkhand</td>\n",
       "      <td>Bokaro</td>\n",
       "      <td>59.605503</td>\n",
       "      <td>40.394497</td>\n",
       "    </tr>\n",
       "    <tr>\n",
       "      <th>355</th>\n",
       "      <td>Jharkhand</td>\n",
       "      <td>Lohardaga</td>\n",
       "      <td>57.591055</td>\n",
       "      <td>42.408945</td>\n",
       "    </tr>\n",
       "    <tr>\n",
       "      <th>356</th>\n",
       "      <td>Jharkhand</td>\n",
       "      <td>Purbi Singhbhum</td>\n",
       "      <td>56.810146</td>\n",
       "      <td>43.189854</td>\n",
       "    </tr>\n",
       "    <tr>\n",
       "      <th>357</th>\n",
       "      <td>Jharkhand</td>\n",
       "      <td>Palamu</td>\n",
       "      <td>60.680114</td>\n",
       "      <td>39.319886</td>\n",
       "    </tr>\n",
       "    <tr>\n",
       "      <th>358</th>\n",
       "      <td>Jharkhand</td>\n",
       "      <td>Latehar</td>\n",
       "      <td>59.799476</td>\n",
       "      <td>40.200524</td>\n",
       "    </tr>\n",
       "    <tr>\n",
       "      <th>359</th>\n",
       "      <td>Jharkhand</td>\n",
       "      <td>Hazaribagh</td>\n",
       "      <td>58.831837</td>\n",
       "      <td>41.168163</td>\n",
       "    </tr>\n",
       "    <tr>\n",
       "      <th>360</th>\n",
       "      <td>Jharkhand</td>\n",
       "      <td>Ramgarh</td>\n",
       "      <td>58.681100</td>\n",
       "      <td>41.318900</td>\n",
       "    </tr>\n",
       "    <tr>\n",
       "      <th>361</th>\n",
       "      <td>Jharkhand</td>\n",
       "      <td>Dumka</td>\n",
       "      <td>60.420815</td>\n",
       "      <td>39.579185</td>\n",
       "    </tr>\n",
       "    <tr>\n",
       "      <th>362</th>\n",
       "      <td>Jharkhand</td>\n",
       "      <td>Jamtara</td>\n",
       "      <td>60.580045</td>\n",
       "      <td>39.419955</td>\n",
       "    </tr>\n",
       "    <tr>\n",
       "      <th>363</th>\n",
       "      <td>Jharkhand</td>\n",
       "      <td>Ranchi</td>\n",
       "      <td>56.776460</td>\n",
       "      <td>43.223540</td>\n",
       "    </tr>\n",
       "    <tr>\n",
       "      <th>364</th>\n",
       "      <td>Jharkhand</td>\n",
       "      <td>Khunti</td>\n",
       "      <td>57.890187</td>\n",
       "      <td>42.109813</td>\n",
       "    </tr>\n",
       "    <tr>\n",
       "      <th>365</th>\n",
       "      <td>Jharkhand</td>\n",
       "      <td>Gumla</td>\n",
       "      <td>57.492139</td>\n",
       "      <td>42.507861</td>\n",
       "    </tr>\n",
       "    <tr>\n",
       "      <th>366</th>\n",
       "      <td>Jharkhand</td>\n",
       "      <td>Simdega</td>\n",
       "      <td>55.895343</td>\n",
       "      <td>44.104657</td>\n",
       "    </tr>\n",
       "    <tr>\n",
       "      <th>367</th>\n",
       "      <td>Jharkhand</td>\n",
       "      <td>Pashchimi Singhbhum</td>\n",
       "      <td>60.376106</td>\n",
       "      <td>39.623894</td>\n",
       "    </tr>\n",
       "    <tr>\n",
       "      <th>368</th>\n",
       "      <td>Jharkhand</td>\n",
       "      <td>Saraikela-Kharsawan</td>\n",
       "      <td>59.598070</td>\n",
       "      <td>40.401930</td>\n",
       "    </tr>\n",
       "  </tbody>\n",
       "</table>\n",
       "</div>"
      ],
      "text/plain": [
       "      State/UT             District  Literate_Male_percent  \\\n",
       "345  Jharkhand               Garhwa              62.000900   \n",
       "346  Jharkhand               Chatra              59.581501   \n",
       "347  Jharkhand              Kodarma              61.186576   \n",
       "348  Jharkhand              Giridih              62.525060   \n",
       "349  Jharkhand              Deoghar                    NaN   \n",
       "350  Jharkhand                Godda              62.233280   \n",
       "351  Jharkhand            Sahibganj              59.450651   \n",
       "352  Jharkhand                Pakur              58.656884   \n",
       "353  Jharkhand              Dhanbad              58.933204   \n",
       "354  Jharkhand               Bokaro              59.605503   \n",
       "355  Jharkhand            Lohardaga              57.591055   \n",
       "356  Jharkhand      Purbi Singhbhum              56.810146   \n",
       "357  Jharkhand               Palamu              60.680114   \n",
       "358  Jharkhand              Latehar              59.799476   \n",
       "359  Jharkhand           Hazaribagh              58.831837   \n",
       "360  Jharkhand              Ramgarh              58.681100   \n",
       "361  Jharkhand                Dumka              60.420815   \n",
       "362  Jharkhand              Jamtara              60.580045   \n",
       "363  Jharkhand               Ranchi              56.776460   \n",
       "364  Jharkhand               Khunti              57.890187   \n",
       "365  Jharkhand                Gumla              57.492139   \n",
       "366  Jharkhand              Simdega              55.895343   \n",
       "367  Jharkhand  Pashchimi Singhbhum              60.376106   \n",
       "368  Jharkhand  Saraikela-Kharsawan              59.598070   \n",
       "\n",
       "     Literate_Female_percent  \n",
       "345                37.999100  \n",
       "346                40.418499  \n",
       "347                38.813424  \n",
       "348                37.474940  \n",
       "349                      NaN  \n",
       "350                37.766720  \n",
       "351                40.549349  \n",
       "352                41.343116  \n",
       "353                41.066796  \n",
       "354                40.394497  \n",
       "355                42.408945  \n",
       "356                43.189854  \n",
       "357                39.319886  \n",
       "358                40.200524  \n",
       "359                41.168163  \n",
       "360                41.318900  \n",
       "361                39.579185  \n",
       "362                39.419955  \n",
       "363                43.223540  \n",
       "364                42.109813  \n",
       "365                42.507861  \n",
       "366                44.104657  \n",
       "367                39.623894  \n",
       "368                40.401930  "
      ]
     },
     "execution_count": 29,
     "metadata": {},
     "output_type": "execute_result"
    }
   ],
   "source": [
    "census_renamed_cols.loc[census_renamed_cols[\"State/UT\"] == \"Jharkhand\", [\"State/UT\", \"District\", \"Literate_Male_percent\", \"Literate_Female_percent\"]]"
   ]
  },
  {
   "cell_type": "code",
   "execution_count": 30,
   "id": "41cad25c",
   "metadata": {},
   "outputs": [
    {
     "data": {
      "text/plain": [
       "Literate_Male_percent      59.373759\n",
       "Literate_Female_percent    40.626241\n",
       "dtype: float64"
      ]
     },
     "execution_count": 30,
     "metadata": {},
     "output_type": "execute_result"
    }
   ],
   "source": [
    "# On checking On an Average in Jharkand, the literate population is slpit at arounf 60% and 40%\n",
    "census_renamed_cols.loc[census_renamed_cols[\"State/UT\"] == \"Jharkhand\", [ \"Literate_Male_percent\", \"Literate_Female_percent\"]].mean()"
   ]
  },
  {
   "cell_type": "code",
   "execution_count": 31,
   "id": "0aa9f1cb",
   "metadata": {},
   "outputs": [
    {
     "name": "stdout",
     "output_type": "stream",
     "text": [
      "349    793538.0\n",
      "Name: Literate, dtype: float64\n",
      "349    470792.0\n",
      "Name: Literate, dtype: float64\n",
      "349    322746.0\n",
      "Name: Literate, dtype: float64\n"
     ]
    }
   ],
   "source": [
    "# So I assuming the same will be true for \"Deoghar\" as well, and splitting Literate to 60 and 40 to Male and Female\n",
    "literate_null_cond = census_renamed_cols['Literate'].isna() | census_renamed_cols['Literate_Male'].isna() | census_renamed_cols['Literate_Female'].isna()\n",
    "print(census_renamed_cols.loc[literate_null_cond, \"Literate\"])\n",
    "print(round(census_renamed_cols.loc[literate_null_cond, \"Literate\"] * .59328198))\n",
    "print(round(census_renamed_cols.loc[literate_null_cond, \"Literate\"] * .40671802))\n",
    "census_renamed_cols.loc[literate_null_cond, \"Literate_Male\"] = round(census_renamed_cols.loc[literate_null_cond, \"Literate\"] * .59328198)\n",
    "census_renamed_cols.loc[literate_null_cond, \"Literate_Female\"] = round(census_renamed_cols.loc[literate_null_cond, \"Literate\"] * .40671802)"
   ]
  },
  {
   "cell_type": "code",
   "execution_count": 32,
   "id": "93c64b00",
   "metadata": {},
   "outputs": [],
   "source": [
    "census_renamed_cols = census_renamed_cols.drop([\"Literate_Male_percent\", \"Literate_Female_percent\"], axis=1)"
   ]
  },
  {
   "cell_type": "code",
   "execution_count": 33,
   "id": "1abfb79b",
   "metadata": {},
   "outputs": [
    {
     "data": {
      "text/html": [
       "<div>\n",
       "<style scoped>\n",
       "    .dataframe tbody tr th:only-of-type {\n",
       "        vertical-align: middle;\n",
       "    }\n",
       "\n",
       "    .dataframe tbody tr th {\n",
       "        vertical-align: top;\n",
       "    }\n",
       "\n",
       "    .dataframe thead th {\n",
       "        text-align: right;\n",
       "    }\n",
       "</style>\n",
       "<table border=\"1\" class=\"dataframe\">\n",
       "  <thead>\n",
       "    <tr style=\"text-align: right;\">\n",
       "      <th></th>\n",
       "      <th>Households_Rural</th>\n",
       "      <th>Households_Urban</th>\n",
       "      <th>Households</th>\n",
       "    </tr>\n",
       "  </thead>\n",
       "  <tbody>\n",
       "    <tr>\n",
       "      <th>0</th>\n",
       "      <td>158438.0</td>\n",
       "      <td>NaN</td>\n",
       "      <td>181664.0</td>\n",
       "    </tr>\n",
       "    <tr>\n",
       "      <th>15</th>\n",
       "      <td>122267.0</td>\n",
       "      <td>11350.0</td>\n",
       "      <td>NaN</td>\n",
       "    </tr>\n",
       "    <tr>\n",
       "      <th>16</th>\n",
       "      <td>84281.0</td>\n",
       "      <td>NaN</td>\n",
       "      <td>89622.0</td>\n",
       "    </tr>\n",
       "    <tr>\n",
       "      <th>30</th>\n",
       "      <td>192787.0</td>\n",
       "      <td>NaN</td>\n",
       "      <td>244296.0</td>\n",
       "    </tr>\n",
       "    <tr>\n",
       "      <th>43</th>\n",
       "      <td>149507.0</td>\n",
       "      <td>74650.0</td>\n",
       "      <td>NaN</td>\n",
       "    </tr>\n",
       "    <tr>\n",
       "      <th>...</th>\n",
       "      <td>...</td>\n",
       "      <td>...</td>\n",
       "      <td>...</td>\n",
       "    </tr>\n",
       "    <tr>\n",
       "      <th>581</th>\n",
       "      <td>315649.0</td>\n",
       "      <td>94053.0</td>\n",
       "      <td>NaN</td>\n",
       "    </tr>\n",
       "    <tr>\n",
       "      <th>598</th>\n",
       "      <td>414992.0</td>\n",
       "      <td>57848.0</td>\n",
       "      <td>NaN</td>\n",
       "    </tr>\n",
       "    <tr>\n",
       "      <th>623</th>\n",
       "      <td>189328.0</td>\n",
       "      <td>221295.0</td>\n",
       "      <td>NaN</td>\n",
       "    </tr>\n",
       "    <tr>\n",
       "      <th>626</th>\n",
       "      <td>NaN</td>\n",
       "      <td>300661.0</td>\n",
       "      <td>636739.0</td>\n",
       "    </tr>\n",
       "    <tr>\n",
       "      <th>631</th>\n",
       "      <td>284795.0</td>\n",
       "      <td>NaN</td>\n",
       "      <td>1169752.0</td>\n",
       "    </tr>\n",
       "  </tbody>\n",
       "</table>\n",
       "<p>100 rows × 3 columns</p>\n",
       "</div>"
      ],
      "text/plain": [
       "     Households_Rural  Households_Urban  Households\n",
       "0            158438.0               NaN    181664.0\n",
       "15           122267.0           11350.0         NaN\n",
       "16            84281.0               NaN     89622.0\n",
       "30           192787.0               NaN    244296.0\n",
       "43           149507.0           74650.0         NaN\n",
       "..                ...               ...         ...\n",
       "581          315649.0           94053.0         NaN\n",
       "598          414992.0           57848.0         NaN\n",
       "623          189328.0          221295.0         NaN\n",
       "626               NaN          300661.0    636739.0\n",
       "631          284795.0               NaN   1169752.0\n",
       "\n",
       "[100 rows x 3 columns]"
      ]
     },
     "execution_count": 33,
     "metadata": {},
     "output_type": "execute_result"
    }
   ],
   "source": [
    "census_renamed_cols[[\"Households_Rural\", \"Households_Urban\", \"Households\"]]\n",
    "census_renamed_cols.loc[census_renamed_cols[\"Households_Rural\"].isna() | census_renamed_cols[\"Households_Urban\"].isna() | census_renamed_cols[\"Households\"].isna(), [\"Households_Rural\", \"Households_Urban\", \"Households\"]]"
   ]
  },
  {
   "cell_type": "code",
   "execution_count": 34,
   "id": "7a135baa",
   "metadata": {},
   "outputs": [],
   "source": [
    "# Households = Households_Rural + Households_Urban \n",
    "census_renamed_cols.loc[census_renamed_cols[\"Households\"].isna(), \"Households\"] = census_renamed_cols.loc[census_renamed_cols[\"Households\"].isna()][\"Households_Rural\"] + census_renamed_cols.loc[census_renamed_cols[\"Households\"].isna()][\"Households_Urban\"]\n",
    "\n",
    "# Households_Rural = Households - Households_Urban\n",
    "census_renamed_cols.loc[census_renamed_cols[\"Households_Rural\"].isna(), \"Households_Rural\"] = census_renamed_cols.loc[census_renamed_cols[\"Households_Rural\"].isna()][\"Households\"] - census_renamed_cols.loc[census_renamed_cols[\"Households_Rural\"].isna()][\"Households_Urban\"]\n",
    "\n",
    "# Households_Urban = Households - Households_Rural\n",
    "census_renamed_cols.loc[census_renamed_cols[\"Households_Urban\"].isna(), \"Households_Urban\"] = census_renamed_cols.loc[census_renamed_cols[\"Households_Urban\"].isna()][\"Households\"] - census_renamed_cols.loc[census_renamed_cols[\"Households_Urban\"].isna()][\"Households_Rural\"]"
   ]
  },
  {
   "cell_type": "code",
   "execution_count": 35,
   "id": "98fa9c89",
   "metadata": {},
   "outputs": [
    {
     "data": {
      "text/html": [
       "<div>\n",
       "<style scoped>\n",
       "    .dataframe tbody tr th:only-of-type {\n",
       "        vertical-align: middle;\n",
       "    }\n",
       "\n",
       "    .dataframe tbody tr th {\n",
       "        vertical-align: top;\n",
       "    }\n",
       "\n",
       "    .dataframe thead th {\n",
       "        text-align: right;\n",
       "    }\n",
       "</style>\n",
       "<table border=\"1\" class=\"dataframe\">\n",
       "  <thead>\n",
       "    <tr style=\"text-align: right;\">\n",
       "      <th></th>\n",
       "      <th>Households_Rural</th>\n",
       "      <th>Households_Urban</th>\n",
       "      <th>Households</th>\n",
       "    </tr>\n",
       "  </thead>\n",
       "  <tbody>\n",
       "    <tr>\n",
       "      <th>104</th>\n",
       "      <td>NaN</td>\n",
       "      <td>129697.0</td>\n",
       "      <td>NaN</td>\n",
       "    </tr>\n",
       "    <tr>\n",
       "      <th>245</th>\n",
       "      <td>17889.0</td>\n",
       "      <td>NaN</td>\n",
       "      <td>NaN</td>\n",
       "    </tr>\n",
       "    <tr>\n",
       "      <th>364</th>\n",
       "      <td>NaN</td>\n",
       "      <td>NaN</td>\n",
       "      <td>135719.0</td>\n",
       "    </tr>\n",
       "    <tr>\n",
       "      <th>400</th>\n",
       "      <td>NaN</td>\n",
       "      <td>65167.0</td>\n",
       "      <td>NaN</td>\n",
       "    </tr>\n",
       "    <tr>\n",
       "      <th>401</th>\n",
       "      <td>NaN</td>\n",
       "      <td>20722.0</td>\n",
       "      <td>NaN</td>\n",
       "    </tr>\n",
       "    <tr>\n",
       "      <th>460</th>\n",
       "      <td>NaN</td>\n",
       "      <td>NaN</td>\n",
       "      <td>207713.0</td>\n",
       "    </tr>\n",
       "    <tr>\n",
       "      <th>553</th>\n",
       "      <td>NaN</td>\n",
       "      <td>395900.0</td>\n",
       "      <td>NaN</td>\n",
       "    </tr>\n",
       "  </tbody>\n",
       "</table>\n",
       "</div>"
      ],
      "text/plain": [
       "     Households_Rural  Households_Urban  Households\n",
       "104               NaN          129697.0         NaN\n",
       "245           17889.0               NaN         NaN\n",
       "364               NaN               NaN    135719.0\n",
       "400               NaN           65167.0         NaN\n",
       "401               NaN           20722.0         NaN\n",
       "460               NaN               NaN    207713.0\n",
       "553               NaN          395900.0         NaN"
      ]
     },
     "execution_count": 35,
     "metadata": {},
     "output_type": "execute_result"
    }
   ],
   "source": [
    "# Still there are 7 missing Houshold Rows, But I could not find any close correlation with other HouseHold columns in excel\n",
    "census_renamed_cols.loc[census_renamed_cols[\"Households_Rural\"].isna() | census_renamed_cols[\"Households_Urban\"].isna() | census_renamed_cols[\"Households\"].isna(), [\"Households_Rural\", \"Households_Urban\", \"Households\"]]"
   ]
  },
  {
   "cell_type": "code",
   "execution_count": 36,
   "id": "43aa80e8",
   "metadata": {},
   "outputs": [
    {
     "data": {
      "text/html": [
       "<div>\n",
       "<style scoped>\n",
       "    .dataframe tbody tr th:only-of-type {\n",
       "        vertical-align: middle;\n",
       "    }\n",
       "\n",
       "    .dataframe tbody tr th {\n",
       "        vertical-align: top;\n",
       "    }\n",
       "\n",
       "    .dataframe thead th {\n",
       "        text-align: right;\n",
       "    }\n",
       "</style>\n",
       "<table border=\"1\" class=\"dataframe\">\n",
       "  <thead>\n",
       "    <tr style=\"text-align: right;\">\n",
       "      <th></th>\n",
       "      <th>Population</th>\n",
       "      <th>Young_and_Adult</th>\n",
       "      <th>Middle_Aged</th>\n",
       "      <th>Senior_Citizen</th>\n",
       "      <th>Age_Not_Stated</th>\n",
       "    </tr>\n",
       "  </thead>\n",
       "  <tbody>\n",
       "    <tr>\n",
       "      <th>2</th>\n",
       "      <td>133487.0</td>\n",
       "      <td>70703.0</td>\n",
       "      <td>41515.0</td>\n",
       "      <td>NaN</td>\n",
       "      <td>250.0</td>\n",
       "    </tr>\n",
       "    <tr>\n",
       "      <th>8</th>\n",
       "      <td>392232.0</td>\n",
       "      <td>252378.0</td>\n",
       "      <td>NaN</td>\n",
       "      <td>48802.0</td>\n",
       "      <td>587.0</td>\n",
       "    </tr>\n",
       "    <tr>\n",
       "      <th>9</th>\n",
       "      <td>1236829.0</td>\n",
       "      <td>693238.0</td>\n",
       "      <td>351561.0</td>\n",
       "      <td>190330.0</td>\n",
       "      <td>NaN</td>\n",
       "    </tr>\n",
       "    <tr>\n",
       "      <th>11</th>\n",
       "      <td>560440.0</td>\n",
       "      <td>342601.0</td>\n",
       "      <td>NaN</td>\n",
       "      <td>NaN</td>\n",
       "      <td>696.0</td>\n",
       "    </tr>\n",
       "    <tr>\n",
       "      <th>16</th>\n",
       "      <td>283713.0</td>\n",
       "      <td>188526.0</td>\n",
       "      <td>61604.0</td>\n",
       "      <td>NaN</td>\n",
       "      <td>363.0</td>\n",
       "    </tr>\n",
       "    <tr>\n",
       "      <th>...</th>\n",
       "      <td>...</td>\n",
       "      <td>...</td>\n",
       "      <td>...</td>\n",
       "      <td>...</td>\n",
       "      <td>...</td>\n",
       "    </tr>\n",
       "    <tr>\n",
       "      <th>630</th>\n",
       "      <td>1879809.0</td>\n",
       "      <td>1034474.0</td>\n",
       "      <td>NaN</td>\n",
       "      <td>311238.0</td>\n",
       "      <td>914.0</td>\n",
       "    </tr>\n",
       "    <tr>\n",
       "      <th>631</th>\n",
       "      <td>3458045.0</td>\n",
       "      <td>1579517.0</td>\n",
       "      <td>1117221.0</td>\n",
       "      <td>NaN</td>\n",
       "      <td>3569.0</td>\n",
       "    </tr>\n",
       "    <tr>\n",
       "      <th>632</th>\n",
       "      <td>2479052.0</td>\n",
       "      <td>1177987.0</td>\n",
       "      <td>794639.0</td>\n",
       "      <td>504674.0</td>\n",
       "      <td>NaN</td>\n",
       "    </tr>\n",
       "    <tr>\n",
       "      <th>635</th>\n",
       "      <td>41816.0</td>\n",
       "      <td>19760.0</td>\n",
       "      <td>NaN</td>\n",
       "      <td>9428.0</td>\n",
       "      <td>85.0</td>\n",
       "    </tr>\n",
       "    <tr>\n",
       "      <th>636</th>\n",
       "      <td>200222.0</td>\n",
       "      <td>NaN</td>\n",
       "      <td>60089.0</td>\n",
       "      <td>NaN</td>\n",
       "      <td>366.0</td>\n",
       "    </tr>\n",
       "  </tbody>\n",
       "</table>\n",
       "<p>117 rows × 5 columns</p>\n",
       "</div>"
      ],
      "text/plain": [
       "     Population  Young_and_Adult  Middle_Aged  Senior_Citizen  Age_Not_Stated\n",
       "2      133487.0          70703.0      41515.0             NaN           250.0\n",
       "8      392232.0         252378.0          NaN         48802.0           587.0\n",
       "9     1236829.0         693238.0     351561.0        190330.0             NaN\n",
       "11     560440.0         342601.0          NaN             NaN           696.0\n",
       "16     283713.0         188526.0      61604.0             NaN           363.0\n",
       "..          ...              ...          ...             ...             ...\n",
       "630   1879809.0        1034474.0          NaN        311238.0           914.0\n",
       "631   3458045.0        1579517.0    1117221.0             NaN          3569.0\n",
       "632   2479052.0        1177987.0     794639.0        504674.0             NaN\n",
       "635     41816.0          19760.0          NaN          9428.0            85.0\n",
       "636    200222.0              NaN      60089.0             NaN           366.0\n",
       "\n",
       "[117 rows x 5 columns]"
      ]
     },
     "execution_count": 36,
     "metadata": {},
     "output_type": "execute_result"
    }
   ],
   "source": [
    "age_group_null_cond = census_renamed_cols[\"Young_and_Adult\"].isna() | census_renamed_cols[\"Middle_Aged\"].isna() | census_renamed_cols[\"Senior_Citizen\"].isna() | census_renamed_cols[\"Age_Not_Stated\"].isna()\n",
    "census_renamed_cols[age_group_null_cond][[\"Population\", \"Young_and_Adult\", \"Middle_Aged\", \"Senior_Citizen\", \"Age_Not_Stated\"]]"
   ]
  },
  {
   "cell_type": "code",
   "execution_count": 37,
   "id": "24cfb5bd",
   "metadata": {},
   "outputs": [],
   "source": [
    "census_renamed_cols.loc[census_renamed_cols[\"Young_and_Adult\"].isna(), \"Young_and_Adult\"] = census_renamed_cols[census_renamed_cols[\"Young_and_Adult\"].isna()][\"Population\"] - (\n",
    "#     census_renamed_cols[census_renamed_cols[\"Young_and_Adult\"].isna()][\"Young_and_Adult\"]\n",
    "    + census_renamed_cols[census_renamed_cols[\"Young_and_Adult\"].isna()][\"Middle_Aged\"]\n",
    "    + census_renamed_cols[census_renamed_cols[\"Young_and_Adult\"].isna()][\"Senior_Citizen\"]\n",
    "    + census_renamed_cols[census_renamed_cols[\"Young_and_Adult\"].isna()][\"Age_Not_Stated\"]\n",
    ")\n",
    "\n",
    "census_renamed_cols.loc[census_renamed_cols[\"Middle_Aged\"].isna(), \"Middle_Aged\"] = census_renamed_cols[census_renamed_cols[\"Middle_Aged\"].isna()][\"Population\"] - (\n",
    "    census_renamed_cols[census_renamed_cols[\"Middle_Aged\"].isna()][\"Young_and_Adult\"]\n",
    "#     + census_renamed_cols[census_renamed_cols[\"Middle_Aged\"].isna()][\"Middle_Aged\"]\n",
    "    + census_renamed_cols[census_renamed_cols[\"Middle_Aged\"].isna()][\"Senior_Citizen\"]\n",
    "    + census_renamed_cols[census_renamed_cols[\"Middle_Aged\"].isna()][\"Age_Not_Stated\"]\n",
    ")\n",
    "\n",
    "census_renamed_cols.loc[census_renamed_cols[\"Senior_Citizen\"].isna(), \"Senior_Citizen\"] = census_renamed_cols[census_renamed_cols[\"Senior_Citizen\"].isna()][\"Population\"] - (\n",
    "    census_renamed_cols[census_renamed_cols[\"Senior_Citizen\"].isna()][\"Young_and_Adult\"]\n",
    "    + census_renamed_cols[census_renamed_cols[\"Senior_Citizen\"].isna()][\"Middle_Aged\"]\n",
    "#     + census_renamed_cols[census_renamed_cols[\"Senior_Citizen\"].isna()][\"Senior_Citizen\"]\n",
    "    + census_renamed_cols[census_renamed_cols[\"Senior_Citizen\"].isna()][\"Age_Not_Stated\"]\n",
    ")\n",
    "\n",
    "census_renamed_cols.loc[census_renamed_cols[\"Age_Not_Stated\"].isna(), \"Age_Not_Stated\"] = census_renamed_cols[census_renamed_cols[\"Age_Not_Stated\"].isna()][\"Population\"] - (\n",
    "    census_renamed_cols[census_renamed_cols[\"Age_Not_Stated\"].isna()][\"Young_and_Adult\"]\n",
    "    + census_renamed_cols[census_renamed_cols[\"Age_Not_Stated\"].isna()][\"Middle_Aged\"]\n",
    "    + census_renamed_cols[census_renamed_cols[\"Age_Not_Stated\"].isna()][\"Senior_Citizen\"]\n",
    "#     + census_renamed_cols[census_renamed_cols[\"Age_Not_Stated\"].isna()][\"Age_Not_Stated\"]\n",
    ")"
   ]
  },
  {
   "cell_type": "code",
   "execution_count": 38,
   "id": "6f57ae2c",
   "metadata": {},
   "outputs": [
    {
     "data": {
      "text/html": [
       "<div>\n",
       "<style scoped>\n",
       "    .dataframe tbody tr th:only-of-type {\n",
       "        vertical-align: middle;\n",
       "    }\n",
       "\n",
       "    .dataframe tbody tr th {\n",
       "        vertical-align: top;\n",
       "    }\n",
       "\n",
       "    .dataframe thead th {\n",
       "        text-align: right;\n",
       "    }\n",
       "</style>\n",
       "<table border=\"1\" class=\"dataframe\">\n",
       "  <thead>\n",
       "    <tr style=\"text-align: right;\">\n",
       "      <th></th>\n",
       "      <th>Young_and_Adult</th>\n",
       "      <th>Middle_Aged</th>\n",
       "      <th>Senior_Citizen</th>\n",
       "      <th>Age_Not_Stated</th>\n",
       "    </tr>\n",
       "  </thead>\n",
       "  <tbody>\n",
       "    <tr>\n",
       "      <th>11</th>\n",
       "      <td>342601.0</td>\n",
       "      <td>NaN</td>\n",
       "      <td>NaN</td>\n",
       "      <td>696.0</td>\n",
       "    </tr>\n",
       "    <tr>\n",
       "      <th>31</th>\n",
       "      <td>NaN</td>\n",
       "      <td>NaN</td>\n",
       "      <td>82471.0</td>\n",
       "      <td>301.0</td>\n",
       "    </tr>\n",
       "    <tr>\n",
       "      <th>70</th>\n",
       "      <td>NaN</td>\n",
       "      <td>317708.0</td>\n",
       "      <td>NaN</td>\n",
       "      <td>298.0</td>\n",
       "    </tr>\n",
       "    <tr>\n",
       "      <th>206</th>\n",
       "      <td>2860455.0</td>\n",
       "      <td>NaN</td>\n",
       "      <td>611899.0</td>\n",
       "      <td>NaN</td>\n",
       "    </tr>\n",
       "    <tr>\n",
       "      <th>362</th>\n",
       "      <td>480895.0</td>\n",
       "      <td>189889.0</td>\n",
       "      <td>NaN</td>\n",
       "      <td>NaN</td>\n",
       "    </tr>\n",
       "    <tr>\n",
       "      <th>460</th>\n",
       "      <td>NaN</td>\n",
       "      <td>193520.0</td>\n",
       "      <td>NaN</td>\n",
       "      <td>950.0</td>\n",
       "    </tr>\n",
       "    <tr>\n",
       "      <th>470</th>\n",
       "      <td>1119451.0</td>\n",
       "      <td>NaN</td>\n",
       "      <td>NaN</td>\n",
       "      <td>3603.0</td>\n",
       "    </tr>\n",
       "    <tr>\n",
       "      <th>622</th>\n",
       "      <td>1528178.0</td>\n",
       "      <td>NaN</td>\n",
       "      <td>NaN</td>\n",
       "      <td>2532.0</td>\n",
       "    </tr>\n",
       "    <tr>\n",
       "      <th>625</th>\n",
       "      <td>708322.0</td>\n",
       "      <td>389764.0</td>\n",
       "      <td>NaN</td>\n",
       "      <td>NaN</td>\n",
       "    </tr>\n",
       "    <tr>\n",
       "      <th>636</th>\n",
       "      <td>NaN</td>\n",
       "      <td>60089.0</td>\n",
       "      <td>NaN</td>\n",
       "      <td>366.0</td>\n",
       "    </tr>\n",
       "  </tbody>\n",
       "</table>\n",
       "</div>"
      ],
      "text/plain": [
       "     Young_and_Adult  Middle_Aged  Senior_Citizen  Age_Not_Stated\n",
       "11          342601.0          NaN             NaN           696.0\n",
       "31               NaN          NaN         82471.0           301.0\n",
       "70               NaN     317708.0             NaN           298.0\n",
       "206        2860455.0          NaN        611899.0             NaN\n",
       "362         480895.0     189889.0             NaN             NaN\n",
       "460              NaN     193520.0             NaN           950.0\n",
       "470        1119451.0          NaN             NaN          3603.0\n",
       "622        1528178.0          NaN             NaN          2532.0\n",
       "625         708322.0     389764.0             NaN             NaN\n",
       "636              NaN      60089.0             NaN           366.0"
      ]
     },
     "execution_count": 38,
     "metadata": {},
     "output_type": "execute_result"
    }
   ],
   "source": [
    "# Since these columns have more than one nan values, I could not find any direct answers\n",
    "age_group_null_cond = census_renamed_cols[\"Young_and_Adult\"].isna() | census_renamed_cols[\"Middle_Aged\"].isna() | census_renamed_cols[\"Senior_Citizen\"].isna() | census_renamed_cols[\"Age_Not_Stated\"].isna()\n",
    "census_renamed_cols[age_group_null_cond][[\"Young_and_Adult\", \"Middle_Aged\", \"Senior_Citizen\", \"Age_Not_Stated\"]]"
   ]
  },
  {
   "cell_type": "code",
   "execution_count": 39,
   "id": "39263178",
   "metadata": {},
   "outputs": [
    {
     "data": {
      "text/plain": [
       "State/UT            0\n",
       "District            0\n",
       "Population          0\n",
       "Male                0\n",
       "Female              0\n",
       "Literate            0\n",
       "Literate_Male       0\n",
       "Literate_Female     0\n",
       "Households_Rural    6\n",
       "Households_Urban    3\n",
       "Households          5\n",
       "Young_and_Adult     4\n",
       "Middle_Aged         5\n",
       "Senior_Citizen      8\n",
       "Age_Not_Stated      3\n",
       "dtype: int64"
      ]
     },
     "execution_count": 39,
     "metadata": {},
     "output_type": "execute_result"
    }
   ],
   "source": [
    "census_renamed_cols.isna().sum()"
   ]
  },
  {
   "cell_type": "code",
   "execution_count": 40,
   "id": "08a8ab30",
   "metadata": {},
   "outputs": [
    {
     "data": {
      "text/plain": [
       "State/UT            0.00000\n",
       "District            0.00000\n",
       "Population          0.00000\n",
       "Male                0.00000\n",
       "Female              0.00000\n",
       "Literate            0.00000\n",
       "Literate_Male       0.00000\n",
       "Literate_Female     0.00000\n",
       "Households_Rural    0.93750\n",
       "Households_Urban    0.46875\n",
       "Households          0.78125\n",
       "Young_and_Adult     0.62500\n",
       "Middle_Aged         0.78125\n",
       "Senior_Citizen      1.25000\n",
       "Age_Not_Stated      0.46875\n",
       "dtype: float64"
      ]
     },
     "execution_count": 40,
     "metadata": {},
     "output_type": "execute_result"
    }
   ],
   "source": [
    "percet_na_missing_current = census_renamed_cols.isna().sum()/census_renamed_cols.shape[0] * 100\n",
    "percet_na_missing_current"
   ]
  },
  {
   "cell_type": "code",
   "execution_count": 41,
   "id": "a4e3425f",
   "metadata": {},
   "outputs": [
    {
     "data": {
      "text/plain": [
       "[Text(0, 0.5, 'Percentage')]"
      ]
     },
     "execution_count": 41,
     "metadata": {},
     "output_type": "execute_result"
    },
    {
     "data": {
      "image/png": "[encoded data removed]",
      "text/plain": [
       "<Figure size 1500x1000 with 1 Axes>"
      ]
     },
     "metadata": {},
     "output_type": "display_data"
    }
   ],
   "source": [
    "# After filling Null values, pleas find below bar plot which highlight percent of Null before and after.\n",
    "ax = pd.concat([percet_na_missing, percet_na_missing_current], axis=1).rename({0: \"Before\", 1: \"After\"}, axis=1).plot.bar(figsize=(15, 10))\n",
    "ax.set(ylabel=\"Percentage\")\n",
    "# ax.set_ylabel(\"Percentage\")"
   ]
  },
  {
   "cell_type": "markdown",
   "id": "094cad83",
   "metadata": {},
   "source": [
    "### Problem 6"
   ]
  },
  {
   "cell_type": "code",
   "execution_count": 42,
   "id": "1698a928",
   "metadata": {},
   "outputs": [],
   "source": [
    "census_renamed_cols.to_csv(\"Clean/census_2011.csv\")"
   ]
  },
  {
   "cell_type": "markdown",
   "id": "799ea646",
   "metadata": {},
   "source": [
    "## Problem 7"
   ]
  },
  {
   "cell_type": "code",
   "execution_count": 43,
   "id": "32638626",
   "metadata": {
    "scrolled": true
   },
   "outputs": [
    {
     "data": {
      "text/plain": [
       "'\\nProblem Statement 7: (Process the relevant data)\\nFrom the housing data(Data/housing.csv) read the following columns which may be relevant to the requirement.\\n\\uf0d8\\tDistrict Name\\n\\uf0d8\\tRural/Urban\\n\\uf0d8\\tTotal Number of households\\n\\uf0d8\\tTotal Number of Livable\\n\\uf0d8\\tTotal Number of Dilapidated\\n\\uf0d8\\tLatrine_premise\\n\\nIn the given data The total number of households, Total Number of Livable, Total Number of Dilapidated, Latrine_premise, etc. seem to be in percentage terms and not in absolute terms.\\nThe total number of households in a district can be found in the census data. Take the information from the census data and find the absolute values for the Total Number of Dilapidated, and Latrine_premise for both rural and urban areas of each district.\\n\\nCalculate the data and rename the column names and save it in a CSV file named “housing.csv” in the “Clean_Data” folder, such that it  has the following column names:\\n\\uf0d8\\tDistrict\\n\\uf0d8\\tHouseholds_Rural\\n\\uf0d8\\tHouseholds_Rural_Livable\\n\\uf0d8\\tHouseholds_Rural_Dilapidated\\n\\uf0d8\\tHouseholds_Rural_Toilet_Premise\\n\\uf0d8\\tHouseholds_Urban\\n\\uf0d8\\tHouseholds_Urban_Livable\\n\\uf0d8\\tHouseholds_Urban_Dilapidated\\n\\uf0d8\\tHouseholds_Urban_Toilet_Premise\\n\\nReport if any district data is in one file but not the other.\\n'"
      ]
     },
     "execution_count": 43,
     "metadata": {},
     "output_type": "execute_result"
    }
   ],
   "source": [
    "\"\"\"\n",
    "Problem Statement 7: (Process the relevant data)\n",
    "From the housing data(Data/housing.csv) read the following columns which may be relevant to the requirement.\n",
    "\tDistrict Name\n",
    "\tRural/Urban\n",
    "\tTotal Number of households\n",
    "\tTotal Number of Livable\n",
    "\tTotal Number of Dilapidated\n",
    "\tLatrine_premise\n",
    "\n",
    "In the given data The total number of households, Total Number of Livable, Total Number of Dilapidated, Latrine_premise, etc. seem to be in percentage terms and not in absolute terms.\n",
    "The total number of households in a district can be found in the census data. Take the information from the census data and find the absolute values for the Total Number of Dilapidated, and Latrine_premise for both rural and urban areas of each district.\n",
    "\n",
    "Calculate the data and rename the column names and save it in a CSV file named “housing.csv” in the “Clean_Data” folder, such that it  has the following column names:\n",
    "\tDistrict\n",
    "\tHouseholds_Rural\n",
    "\tHouseholds_Rural_Livable\n",
    "\tHouseholds_Rural_Dilapidated\n",
    "\tHouseholds_Rural_Toilet_Premise\n",
    "\tHouseholds_Urban\n",
    "\tHouseholds_Urban_Livable\n",
    "\tHouseholds_Urban_Dilapidated\n",
    "\tHouseholds_Urban_Toilet_Premise\n",
    "\n",
    "Report if any district data is in one file but not the other.\n",
    "\"\"\""
   ]
  },
  {
   "cell_type": "markdown",
   "id": "732acf4a",
   "metadata": {},
   "source": [
    "#### I assumed that Districts are unique and there are only 634 Districts"
   ]
  },
  {
   "cell_type": "code",
   "execution_count": 44,
   "id": "7d72adae",
   "metadata": {},
   "outputs": [],
   "source": [
    "# Passing the columns for filtering\n",
    "columns = '''District Name\n",
    "Rural/Urban\n",
    "Total Number of households\n",
    "Total Number of Livable\n",
    "Total Number of Dilapidated\n",
    "Latrine_premise'''\n",
    "\n",
    "columns_needed = columns.split(\"\\n\")\n",
    "\n",
    "housing_col_filtered = pd.read_csv(\"Data/housing.csv\", usecols=columns_needed)\n",
    "housing_col_filtered = housing_col_filtered.rename({\n",
    "    \"District Name\": \"District\"\n",
    "}, axis=1)"
   ]
  },
  {
   "cell_type": "code",
   "execution_count": 45,
   "id": "cee63291",
   "metadata": {},
   "outputs": [
    {
     "name": "stdout",
     "output_type": "stream",
     "text": [
      "<class 'pandas.core.frame.DataFrame'>\n",
      "RangeIndex: 1908 entries, 0 to 1907\n",
      "Data columns (total 6 columns):\n",
      " #   Column                       Non-Null Count  Dtype  \n",
      "---  ------                       --------------  -----  \n",
      " 0   District                     1908 non-null   object \n",
      " 1   Rural/Urban                  1908 non-null   object \n",
      " 2   Total Number of households   1908 non-null   int64  \n",
      " 3   Total Number of Livable      1908 non-null   float64\n",
      " 4   Total Number of Dilapidated  1908 non-null   float64\n",
      " 5   Latrine_premise              1908 non-null   float64\n",
      "dtypes: float64(3), int64(1), object(2)\n",
      "memory usage: 89.6+ KB\n"
     ]
    }
   ],
   "source": [
    "housing_col_filtered.info()"
   ]
  },
  {
   "cell_type": "code",
   "execution_count": 46,
   "id": "29617c09",
   "metadata": {},
   "outputs": [],
   "source": [
    "housing_col_filtered = state_name_correction(housing_col_filtered, \"District\")"
   ]
  },
  {
   "cell_type": "code",
   "execution_count": 47,
   "id": "690d98d2",
   "metadata": {},
   "outputs": [
    {
     "data": {
      "text/html": [
       "<div>\n",
       "<style scoped>\n",
       "    .dataframe tbody tr th:only-of-type {\n",
       "        vertical-align: middle;\n",
       "    }\n",
       "\n",
       "    .dataframe tbody tr th {\n",
       "        vertical-align: top;\n",
       "    }\n",
       "\n",
       "    .dataframe thead th {\n",
       "        text-align: right;\n",
       "    }\n",
       "</style>\n",
       "<table border=\"1\" class=\"dataframe\">\n",
       "  <thead>\n",
       "    <tr style=\"text-align: right;\">\n",
       "      <th></th>\n",
       "      <th>District</th>\n",
       "      <th>Rural/Urban</th>\n",
       "      <th>Total Number of households</th>\n",
       "      <th>Total Number of Livable</th>\n",
       "      <th>Total Number of Dilapidated</th>\n",
       "      <th>Latrine_premise</th>\n",
       "    </tr>\n",
       "  </thead>\n",
       "  <tbody>\n",
       "    <tr>\n",
       "      <th>0</th>\n",
       "      <td>Kupwara</td>\n",
       "      <td>Rural</td>\n",
       "      <td>100</td>\n",
       "      <td>58.1</td>\n",
       "      <td>8.3</td>\n",
       "      <td>48.9</td>\n",
       "    </tr>\n",
       "    <tr>\n",
       "      <th>1</th>\n",
       "      <td>Kupwara</td>\n",
       "      <td>Total</td>\n",
       "      <td>100</td>\n",
       "      <td>57.3</td>\n",
       "      <td>7.9</td>\n",
       "      <td>50.9</td>\n",
       "    </tr>\n",
       "    <tr>\n",
       "      <th>2</th>\n",
       "      <td>Kupwara</td>\n",
       "      <td>Urban</td>\n",
       "      <td>100</td>\n",
       "      <td>49.5</td>\n",
       "      <td>4.8</td>\n",
       "      <td>70.2</td>\n",
       "    </tr>\n",
       "  </tbody>\n",
       "</table>\n",
       "</div>"
      ],
      "text/plain": [
       "  District Rural/Urban  Total Number of households  Total Number of Livable  \\\n",
       "0  Kupwara       Rural                         100                     58.1   \n",
       "1  Kupwara       Total                         100                     57.3   \n",
       "2  Kupwara       Urban                         100                     49.5   \n",
       "\n",
       "   Total Number of Dilapidated  Latrine_premise  \n",
       "0                          8.3             48.9  \n",
       "1                          7.9             50.9  \n",
       "2                          4.8             70.2  "
      ]
     },
     "execution_count": 47,
     "metadata": {},
     "output_type": "execute_result"
    }
   ],
   "source": [
    "housing_col_filtered.head(3)"
   ]
  },
  {
   "cell_type": "code",
   "execution_count": 48,
   "id": "acfebd9f",
   "metadata": {},
   "outputs": [
    {
     "data": {
      "text/plain": [
       "634"
      ]
     },
     "execution_count": 48,
     "metadata": {},
     "output_type": "execute_result"
    }
   ],
   "source": [
    "housing_col_filtered[\"District\"].nunique()"
   ]
  },
  {
   "cell_type": "code",
   "execution_count": 49,
   "id": "2279474f",
   "metadata": {},
   "outputs": [],
   "source": [
    "# I am manually makking a dictionary for Urban and Rural data and multiplying percentage\n",
    "def get_abs_data_list(df, key):\n",
    "    data = {}\n",
    "    for irow in range(len(df)):\n",
    "        row = df.iloc[irow]\n",
    "\n",
    "        key_value = row[key]\n",
    "        if key_value not in data:\n",
    "            data[key_value] = {}\n",
    "\n",
    "        rural_urban = row['Rural/Urban']\n",
    "        if rural_urban.lower() == \"rural\":\n",
    "#             print(key_value)\n",
    "            rural = census_renamed_cols.loc[census_renamed_cols[key] == key_value, \"Households_Rural\"].values[0]\n",
    "            data[key_value][\"Households_Rural\"] = rural\n",
    "            data[key_value][\"Households_Rural_Livable\"] = rural * row[\"Total Number of Livable\"] / 100\n",
    "            data[key_value][\"Households_Rural_Dilapidated\"] = rural * row[\"Total Number of Dilapidated\"] / 100\n",
    "            data[key_value][\"Households_Rural_Toilet_Premise\"] = rural * row[\"Latrine_premise\"] / 100\n",
    "        elif rural_urban.lower() == \"urban\":\n",
    "            urban = census_renamed_cols.loc[census_renamed_cols[key] == key_value, \"Households_Urban\"].values[0]\n",
    "            data[key_value][\"Households_Urban\"] = urban\n",
    "            data[key_value][\"Households_Urban_Livable\"] = urban * row[\"Total Number of Livable\"] / 100\n",
    "            data[key_value][\"Households_Urban_Dilapidated\"] = urban * row[\"Total Number of Dilapidated\"] / 100\n",
    "            data[key_value][\"Households_Urban_Toilet_Premise\"] = urban * row[\"Latrine_premise\"] / 100\n",
    "    return data\n",
    "# data"
   ]
  },
  {
   "cell_type": "code",
   "execution_count": 50,
   "id": "6546f76d",
   "metadata": {},
   "outputs": [],
   "source": [
    "# Then converting the data and making a list and doing a DataFrame\n",
    "L = []\n",
    "data = get_abs_data_list(housing_col_filtered, \"District\")\n",
    "for r in data:\n",
    "    l = [r,\n",
    "         data[r].get(\"Households_Rural\", None),\n",
    "         data[r].get(\"Households_Rural_Livable\", None) ,\n",
    "         data[r].get(\"Households_Rural_Dilapidated\", None), \n",
    "         data[r].get(\"Households_Rural_Toilet_Premise\", None),\n",
    "         data[r].get(\"Households_Urban\", None), \n",
    "         data[r].get(\"Households_Urban_Livable\", None), \n",
    "         data[r].get(\"Households_Urban_Dilapidated\", None), \n",
    "         data[r].get(\"Households_Urban_Toilet_Premise\", None),\n",
    "        ]\n",
    "    L.append(l)\n",
    "col_names = [\"District\", \n",
    "            \"Households_Rural\",\n",
    "            \"Households_Rural_Livable\",\n",
    "            \"Households_Rural_Dilapidated\",\n",
    "            \"Households_Rural_Toilet_Premise\",\n",
    "            \"Households_Urban\",\n",
    "            \"Households_Urban_Livable\",\n",
    "            \"Households_Urban_Dilapidated\",\n",
    "            \"Households_Urban_Toilet_Premise\"]\n",
    "housing_abs_value = pd.DataFrame(L, columns=col_names)"
   ]
  },
  {
   "cell_type": "code",
   "execution_count": 51,
   "id": "b913e8f5",
   "metadata": {},
   "outputs": [
    {
     "data": {
      "text/html": [
       "<div>\n",
       "<style scoped>\n",
       "    .dataframe tbody tr th:only-of-type {\n",
       "        vertical-align: middle;\n",
       "    }\n",
       "\n",
       "    .dataframe tbody tr th {\n",
       "        vertical-align: top;\n",
       "    }\n",
       "\n",
       "    .dataframe thead tr th {\n",
       "        text-align: left;\n",
       "    }\n",
       "\n",
       "    .dataframe thead tr:last-of-type th {\n",
       "        text-align: right;\n",
       "    }\n",
       "</style>\n",
       "<table border=\"1\" class=\"dataframe\">\n",
       "  <thead>\n",
       "    <tr>\n",
       "      <th></th>\n",
       "      <th colspan=\"3\" halign=\"left\">Latrine_premise</th>\n",
       "    </tr>\n",
       "    <tr>\n",
       "      <th>Rural/Urban</th>\n",
       "      <th>Rural</th>\n",
       "      <th>Total</th>\n",
       "      <th>Urban</th>\n",
       "    </tr>\n",
       "    <tr>\n",
       "      <th>District</th>\n",
       "      <th></th>\n",
       "      <th></th>\n",
       "      <th></th>\n",
       "    </tr>\n",
       "  </thead>\n",
       "  <tbody>\n",
       "    <tr>\n",
       "      <th>Anuppur</th>\n",
       "      <td>1.0</td>\n",
       "      <td>1.0</td>\n",
       "      <td>1.0</td>\n",
       "    </tr>\n",
       "    <tr>\n",
       "      <th>Bharatpur</th>\n",
       "      <td>1.0</td>\n",
       "      <td>1.0</td>\n",
       "      <td>1.0</td>\n",
       "    </tr>\n",
       "    <tr>\n",
       "      <th>Central</th>\n",
       "      <td>NaN</td>\n",
       "      <td>1.0</td>\n",
       "      <td>1.0</td>\n",
       "    </tr>\n",
       "    <tr>\n",
       "      <th>Chennai</th>\n",
       "      <td>NaN</td>\n",
       "      <td>1.0</td>\n",
       "      <td>1.0</td>\n",
       "    </tr>\n",
       "    <tr>\n",
       "      <th>Chittoor</th>\n",
       "      <td>1.0</td>\n",
       "      <td>1.0</td>\n",
       "      <td>1.0</td>\n",
       "    </tr>\n",
       "    <tr>\n",
       "      <th>Hyderabad</th>\n",
       "      <td>NaN</td>\n",
       "      <td>1.0</td>\n",
       "      <td>1.0</td>\n",
       "    </tr>\n",
       "    <tr>\n",
       "      <th>Jashpur</th>\n",
       "      <td>1.0</td>\n",
       "      <td>1.0</td>\n",
       "      <td>1.0</td>\n",
       "    </tr>\n",
       "    <tr>\n",
       "      <th>Khunti</th>\n",
       "      <td>1.0</td>\n",
       "      <td>1.0</td>\n",
       "      <td>1.0</td>\n",
       "    </tr>\n",
       "    <tr>\n",
       "      <th>Kinnaur</th>\n",
       "      <td>1.0</td>\n",
       "      <td>1.0</td>\n",
       "      <td>NaN</td>\n",
       "    </tr>\n",
       "    <tr>\n",
       "      <th>Kolkata</th>\n",
       "      <td>NaN</td>\n",
       "      <td>1.0</td>\n",
       "      <td>1.0</td>\n",
       "    </tr>\n",
       "    <tr>\n",
       "      <th>Lahul and Spiti</th>\n",
       "      <td>1.0</td>\n",
       "      <td>1.0</td>\n",
       "      <td>NaN</td>\n",
       "    </tr>\n",
       "    <tr>\n",
       "      <th>Mahe</th>\n",
       "      <td>NaN</td>\n",
       "      <td>1.0</td>\n",
       "      <td>1.0</td>\n",
       "    </tr>\n",
       "    <tr>\n",
       "      <th>Mumbai</th>\n",
       "      <td>NaN</td>\n",
       "      <td>1.0</td>\n",
       "      <td>1.0</td>\n",
       "    </tr>\n",
       "    <tr>\n",
       "      <th>Mumbai Suburban</th>\n",
       "      <td>NaN</td>\n",
       "      <td>1.0</td>\n",
       "      <td>1.0</td>\n",
       "    </tr>\n",
       "    <tr>\n",
       "      <th>New Delhi</th>\n",
       "      <td>NaN</td>\n",
       "      <td>1.0</td>\n",
       "      <td>1.0</td>\n",
       "    </tr>\n",
       "    <tr>\n",
       "      <th>Nicobars</th>\n",
       "      <td>1.0</td>\n",
       "      <td>1.0</td>\n",
       "      <td>NaN</td>\n",
       "    </tr>\n",
       "    <tr>\n",
       "      <th>Surguja</th>\n",
       "      <td>1.0</td>\n",
       "      <td>1.0</td>\n",
       "      <td>1.0</td>\n",
       "    </tr>\n",
       "    <tr>\n",
       "      <th>West Kameng</th>\n",
       "      <td>1.0</td>\n",
       "      <td>1.0</td>\n",
       "      <td>1.0</td>\n",
       "    </tr>\n",
       "    <tr>\n",
       "      <th>Yanam</th>\n",
       "      <td>NaN</td>\n",
       "      <td>1.0</td>\n",
       "      <td>1.0</td>\n",
       "    </tr>\n",
       "  </tbody>\n",
       "</table>\n",
       "</div>"
      ],
      "text/plain": [
       "                Latrine_premise            \n",
       "Rural/Urban               Rural Total Urban\n",
       "District                                   \n",
       "Anuppur                     1.0   1.0   1.0\n",
       "Bharatpur                   1.0   1.0   1.0\n",
       "Central                     NaN   1.0   1.0\n",
       "Chennai                     NaN   1.0   1.0\n",
       "Chittoor                    1.0   1.0   1.0\n",
       "Hyderabad                   NaN   1.0   1.0\n",
       "Jashpur                     1.0   1.0   1.0\n",
       "Khunti                      1.0   1.0   1.0\n",
       "Kinnaur                     1.0   1.0   NaN\n",
       "Kolkata                     NaN   1.0   1.0\n",
       "Lahul and Spiti             1.0   1.0   NaN\n",
       "Mahe                        NaN   1.0   1.0\n",
       "Mumbai                      NaN   1.0   1.0\n",
       "Mumbai Suburban             NaN   1.0   1.0\n",
       "New Delhi                   NaN   1.0   1.0\n",
       "Nicobars                    1.0   1.0   NaN\n",
       "Surguja                     1.0   1.0   1.0\n",
       "West Kameng                 1.0   1.0   1.0\n",
       "Yanam                       NaN   1.0   1.0"
      ]
     },
     "execution_count": 51,
     "metadata": {},
     "output_type": "execute_result"
    }
   ],
   "source": [
    "# District with\n",
    "# I could see some of Rural/Urabn type is not given for some District, hence they become Nan\n",
    "dist_list_with_None = housing_abs_value[housing_abs_value.isna().any(axis=1)][\"District\"]\n",
    "t = housing_col_filtered.loc[housing_col_filtered[\"District\"].isin(dist_list_with_None)]\n",
    "pd.pivot_table(t,\n",
    "              index=[\"District\"],\n",
    "              columns=[\"Rural/Urban\"],\n",
    "              values=[\"Latrine_premise\"],\n",
    "              aggfunc = 'count')"
   ]
  },
  {
   "cell_type": "code",
   "execution_count": 52,
   "id": "cb16342e",
   "metadata": {},
   "outputs": [
    {
     "data": {
      "text/plain": [
       "104    Bharatpur\n",
       "364       Khunti\n",
       "400      Surguja\n",
       "401      Jashpur\n",
       "460      Anuppur\n",
       "553     Chittoor\n",
       "Name: District, dtype: object"
      ]
     },
     "execution_count": 52,
     "metadata": {},
     "output_type": "execute_result"
    }
   ],
   "source": [
    "census_renamed_cols[census_renamed_cols[\"Households_Rural\"].isna()][\"District\"]"
   ]
  },
  {
   "cell_type": "code",
   "execution_count": 53,
   "id": "5b1f0019",
   "metadata": {},
   "outputs": [
    {
     "name": "stdout",
     "output_type": "stream",
     "text": [
      "{'Anuppur', 'Khunti'}\n"
     ]
    },
    {
     "data": {
      "text/html": [
       "<div>\n",
       "<style scoped>\n",
       "    .dataframe tbody tr th:only-of-type {\n",
       "        vertical-align: middle;\n",
       "    }\n",
       "\n",
       "    .dataframe tbody tr th {\n",
       "        vertical-align: top;\n",
       "    }\n",
       "\n",
       "    .dataframe thead th {\n",
       "        text-align: right;\n",
       "    }\n",
       "</style>\n",
       "<table border=\"1\" class=\"dataframe\">\n",
       "  <thead>\n",
       "    <tr style=\"text-align: right;\">\n",
       "      <th></th>\n",
       "      <th>State/UT</th>\n",
       "      <th>District</th>\n",
       "      <th>Population</th>\n",
       "      <th>Male</th>\n",
       "      <th>Female</th>\n",
       "      <th>Literate</th>\n",
       "      <th>Literate_Male</th>\n",
       "      <th>Literate_Female</th>\n",
       "      <th>Households_Rural</th>\n",
       "      <th>Households_Urban</th>\n",
       "      <th>Households</th>\n",
       "      <th>Young_and_Adult</th>\n",
       "      <th>Middle_Aged</th>\n",
       "      <th>Senior_Citizen</th>\n",
       "      <th>Age_Not_Stated</th>\n",
       "    </tr>\n",
       "  </thead>\n",
       "  <tbody>\n",
       "    <tr>\n",
       "      <th>364</th>\n",
       "      <td>Jharkhand</td>\n",
       "      <td>Khunti</td>\n",
       "      <td>531885.0</td>\n",
       "      <td>266335.0</td>\n",
       "      <td>265550.0</td>\n",
       "      <td>284575.0</td>\n",
       "      <td>164741.0</td>\n",
       "      <td>119834.0</td>\n",
       "      <td>NaN</td>\n",
       "      <td>NaN</td>\n",
       "      <td>135719.0</td>\n",
       "      <td>327152.0</td>\n",
       "      <td>125649.0</td>\n",
       "      <td>78736.0</td>\n",
       "      <td>348.0</td>\n",
       "    </tr>\n",
       "    <tr>\n",
       "      <th>460</th>\n",
       "      <td>Madhya Pradesh</td>\n",
       "      <td>Anuppur</td>\n",
       "      <td>749237.0</td>\n",
       "      <td>379114.0</td>\n",
       "      <td>370123.0</td>\n",
       "      <td>436595.0</td>\n",
       "      <td>254120.0</td>\n",
       "      <td>182475.0</td>\n",
       "      <td>NaN</td>\n",
       "      <td>NaN</td>\n",
       "      <td>207713.0</td>\n",
       "      <td>NaN</td>\n",
       "      <td>193520.0</td>\n",
       "      <td>NaN</td>\n",
       "      <td>950.0</td>\n",
       "    </tr>\n",
       "  </tbody>\n",
       "</table>\n",
       "</div>"
      ],
      "text/plain": [
       "           State/UT District  Population      Male    Female  Literate  \\\n",
       "364       Jharkhand   Khunti    531885.0  266335.0  265550.0  284575.0   \n",
       "460  Madhya Pradesh  Anuppur    749237.0  379114.0  370123.0  436595.0   \n",
       "\n",
       "     Literate_Male  Literate_Female  Households_Rural  Households_Urban  \\\n",
       "364       164741.0         119834.0               NaN               NaN   \n",
       "460       254120.0         182475.0               NaN               NaN   \n",
       "\n",
       "     Households  Young_and_Adult  Middle_Aged  Senior_Citizen  Age_Not_Stated  \n",
       "364    135719.0         327152.0     125649.0         78736.0           348.0  \n",
       "460    207713.0              NaN     193520.0             NaN           950.0  "
      ]
     },
     "execution_count": 53,
     "metadata": {},
     "output_type": "execute_result"
    }
   ],
   "source": [
    "rural_dist_missing = census_renamed_cols[census_renamed_cols[\"Households_Rural\"].isna()][\"District\"]\n",
    "uraban_dist_missing = census_renamed_cols[census_renamed_cols[\"Households_Urban\"].isna()][\"District\"]\n",
    "print(set(rural_dist_missing).intersection(set(uraban_dist_missing)))\n",
    "housing_col_filtered[housing_col_filtered[\"District\"].isin(set(rural_dist_missing).intersection(set(uraban_dist_missing)))]\n",
    "# For below State-Distrcit, The Household is Nan in census data\n",
    "census_renamed_cols.loc[census_renamed_cols[\"District\"].isin(housing_col_filtered[housing_col_filtered[\"District\"].isin(set(rural_dist_missing).intersection(set(uraban_dist_missing)))][\"District\"].unique().tolist())]\n",
    "# For these two district even through Rural is present in categroy, the Household value are Nan in census data"
   ]
  },
  {
   "cell_type": "code",
   "execution_count": 54,
   "id": "5676d725",
   "metadata": {},
   "outputs": [],
   "source": [
    "# Rounding the Values\n",
    "numeric_cols = housing_abs_value.select_dtypes(include='number').columns\n",
    "housing_abs_value[numeric_cols] = housing_abs_value[numeric_cols].apply(lambda x: round(x))"
   ]
  },
  {
   "cell_type": "code",
   "execution_count": 55,
   "id": "2c3762c8",
   "metadata": {},
   "outputs": [],
   "source": [
    "housing_abs_value.to_csv(\"Clean/housing.csv\")"
   ]
  },
  {
   "cell_type": "markdown",
   "id": "382d3563",
   "metadata": {},
   "source": [
    "#### But I am mistaken after discussion with colleagues I understood some of the District names are dupkicates bt States hence I need to create new key with State And District"
   ]
  },
  {
   "cell_type": "code",
   "execution_count": 56,
   "id": "cee44082",
   "metadata": {},
   "outputs": [],
   "source": [
    "# Passing the columns for filtering\n",
    "columns = '''State Name\n",
    "District Name\n",
    "Rural/Urban\n",
    "Total Number of households\n",
    "Total Number of Livable\n",
    "Total Number of Dilapidated\n",
    "Latrine_premise'''\n",
    "\n",
    "columns_needed = columns.split(\"\\n\")\n",
    "\n",
    "housing_col_filtered = pd.read_csv(\"Data/housing.csv\", usecols=columns_needed)\n",
    "housing_col_filtered = housing_col_filtered.rename({\n",
    "    \"State Name\": \"State/UT\",\n",
    "    \"District Name\": \"District\"\n",
    "}, axis=1)"
   ]
  },
  {
   "cell_type": "code",
   "execution_count": 57,
   "id": "bd1790e2",
   "metadata": {},
   "outputs": [],
   "source": [
    "housing_col_filtered = state_name_correction(housing_col_filtered, \"State/UT\")\n",
    "housing_col_filtered = state_name_correction(housing_col_filtered, \"District\")\n",
    "housing_col_filtered['State/UT'] = housing_col_filtered[['State/UT', 'District']].apply(map_state_dict, axis=1)"
   ]
  },
  {
   "cell_type": "code",
   "execution_count": 58,
   "id": "7bc8fef1",
   "metadata": {},
   "outputs": [],
   "source": [
    "def create_state_dist_key(df):\n",
    "    df[\"State_District\"] = df[[\"State/UT\", \"District\"]].apply(lambda x: (x[0]+\"_\"+x[1]), axis=1)\n",
    "    return df"
   ]
  },
  {
   "cell_type": "code",
   "execution_count": 59,
   "id": "69c14776",
   "metadata": {},
   "outputs": [],
   "source": [
    "housing_col_filtered = create_state_dist_key(housing_col_filtered)\n",
    "census_renamed_cols = create_state_dist_key(census_renamed_cols)"
   ]
  },
  {
   "cell_type": "code",
   "execution_count": 60,
   "id": "445b3764",
   "metadata": {},
   "outputs": [],
   "source": [
    "# Then converting the data and making a list and doing a DataFrame\n",
    "L = []\n",
    "data = get_abs_data_list(housing_col_filtered, \"State_District\")\n",
    "for r in data:\n",
    "    s, d = r.split(\"_\")\n",
    "    l = [r,\n",
    "         s,\n",
    "         d,\n",
    "         data[r].get(\"Households_Rural\", None),\n",
    "         data[r].get(\"Households_Rural_Livable\", None) ,\n",
    "         data[r].get(\"Households_Rural_Dilapidated\", None), \n",
    "         data[r].get(\"Households_Rural_Toilet_Premise\", None),\n",
    "         data[r].get(\"Households_Urban\", None), \n",
    "         data[r].get(\"Households_Urban_Livable\", None), \n",
    "         data[r].get(\"Households_Urban_Dilapidated\", None), \n",
    "         data[r].get(\"Households_Urban_Toilet_Premise\", None),\n",
    "        ]\n",
    "    L.append(l)\n",
    "col_names = [\"State_District\",\n",
    "            \"State/UT\",\n",
    "            \"District\", \n",
    "            \"Households_Rural\",\n",
    "            \"Households_Rural_Livable\",\n",
    "            \"Households_Rural_Dilapidated\",\n",
    "            \"Households_Rural_Toilet_Premise\",\n",
    "            \"Households_Urban\",\n",
    "            \"Households_Urban_Livable\",\n",
    "            \"Households_Urban_Dilapidated\",\n",
    "            \"Households_Urban_Toilet_Premise\"]\n",
    "housing_abs_value = pd.DataFrame(L, columns=col_names)"
   ]
  },
  {
   "cell_type": "code",
   "execution_count": 61,
   "id": "45ae2e05",
   "metadata": {},
   "outputs": [
    {
     "data": {
      "text/html": [
       "<div>\n",
       "<style scoped>\n",
       "    .dataframe tbody tr th:only-of-type {\n",
       "        vertical-align: middle;\n",
       "    }\n",
       "\n",
       "    .dataframe tbody tr th {\n",
       "        vertical-align: top;\n",
       "    }\n",
       "\n",
       "    .dataframe thead tr th {\n",
       "        text-align: left;\n",
       "    }\n",
       "\n",
       "    .dataframe thead tr:last-of-type th {\n",
       "        text-align: right;\n",
       "    }\n",
       "</style>\n",
       "<table border=\"1\" class=\"dataframe\">\n",
       "  <thead>\n",
       "    <tr>\n",
       "      <th></th>\n",
       "      <th colspan=\"3\" halign=\"left\">District</th>\n",
       "    </tr>\n",
       "    <tr>\n",
       "      <th>Rural/Urban</th>\n",
       "      <th>Rural</th>\n",
       "      <th>Total</th>\n",
       "      <th>Urban</th>\n",
       "    </tr>\n",
       "    <tr>\n",
       "      <th>State_District</th>\n",
       "      <th></th>\n",
       "      <th></th>\n",
       "      <th></th>\n",
       "    </tr>\n",
       "  </thead>\n",
       "  <tbody>\n",
       "    <tr>\n",
       "      <th>Andaman and Nicobar Islands_Nicobars</th>\n",
       "      <td>1.0</td>\n",
       "      <td>1.0</td>\n",
       "      <td>NaN</td>\n",
       "    </tr>\n",
       "    <tr>\n",
       "      <th>Andhra Pradesh_Chittoor</th>\n",
       "      <td>1.0</td>\n",
       "      <td>1.0</td>\n",
       "      <td>1.0</td>\n",
       "    </tr>\n",
       "    <tr>\n",
       "      <th>Arunachal Pradesh_West Kameng</th>\n",
       "      <td>1.0</td>\n",
       "      <td>1.0</td>\n",
       "      <td>1.0</td>\n",
       "    </tr>\n",
       "    <tr>\n",
       "      <th>Chhattisgarh_Jashpur</th>\n",
       "      <td>1.0</td>\n",
       "      <td>1.0</td>\n",
       "      <td>1.0</td>\n",
       "    </tr>\n",
       "    <tr>\n",
       "      <th>Chhattisgarh_Surguja</th>\n",
       "      <td>1.0</td>\n",
       "      <td>1.0</td>\n",
       "      <td>1.0</td>\n",
       "    </tr>\n",
       "    <tr>\n",
       "      <th>Himachal Pradesh_Kinnaur</th>\n",
       "      <td>1.0</td>\n",
       "      <td>1.0</td>\n",
       "      <td>NaN</td>\n",
       "    </tr>\n",
       "    <tr>\n",
       "      <th>Himachal Pradesh_Lahul and Spiti</th>\n",
       "      <td>1.0</td>\n",
       "      <td>1.0</td>\n",
       "      <td>NaN</td>\n",
       "    </tr>\n",
       "    <tr>\n",
       "      <th>Jharkhand_Khunti</th>\n",
       "      <td>1.0</td>\n",
       "      <td>1.0</td>\n",
       "      <td>1.0</td>\n",
       "    </tr>\n",
       "    <tr>\n",
       "      <th>Madhya Pradesh_Anuppur</th>\n",
       "      <td>1.0</td>\n",
       "      <td>1.0</td>\n",
       "      <td>1.0</td>\n",
       "    </tr>\n",
       "    <tr>\n",
       "      <th>Maharashtra_Mumbai</th>\n",
       "      <td>NaN</td>\n",
       "      <td>1.0</td>\n",
       "      <td>1.0</td>\n",
       "    </tr>\n",
       "    <tr>\n",
       "      <th>Maharashtra_Mumbai Suburban</th>\n",
       "      <td>NaN</td>\n",
       "      <td>1.0</td>\n",
       "      <td>1.0</td>\n",
       "    </tr>\n",
       "    <tr>\n",
       "      <th>Nct Of Delhi_Central</th>\n",
       "      <td>NaN</td>\n",
       "      <td>1.0</td>\n",
       "      <td>1.0</td>\n",
       "    </tr>\n",
       "    <tr>\n",
       "      <th>Nct Of Delhi_New Delhi</th>\n",
       "      <td>NaN</td>\n",
       "      <td>1.0</td>\n",
       "      <td>1.0</td>\n",
       "    </tr>\n",
       "    <tr>\n",
       "      <th>Pondicherry_Mahe</th>\n",
       "      <td>NaN</td>\n",
       "      <td>1.0</td>\n",
       "      <td>1.0</td>\n",
       "    </tr>\n",
       "    <tr>\n",
       "      <th>Pondicherry_Yanam</th>\n",
       "      <td>NaN</td>\n",
       "      <td>1.0</td>\n",
       "      <td>1.0</td>\n",
       "    </tr>\n",
       "    <tr>\n",
       "      <th>Rajasthan_Bharatpur</th>\n",
       "      <td>1.0</td>\n",
       "      <td>1.0</td>\n",
       "      <td>1.0</td>\n",
       "    </tr>\n",
       "    <tr>\n",
       "      <th>Tamil Nadu_Chennai</th>\n",
       "      <td>NaN</td>\n",
       "      <td>1.0</td>\n",
       "      <td>1.0</td>\n",
       "    </tr>\n",
       "    <tr>\n",
       "      <th>Telangana_Hyderabad</th>\n",
       "      <td>NaN</td>\n",
       "      <td>1.0</td>\n",
       "      <td>1.0</td>\n",
       "    </tr>\n",
       "    <tr>\n",
       "      <th>West Bengal_Kolkata</th>\n",
       "      <td>NaN</td>\n",
       "      <td>1.0</td>\n",
       "      <td>1.0</td>\n",
       "    </tr>\n",
       "  </tbody>\n",
       "</table>\n",
       "</div>"
      ],
      "text/plain": [
       "                                     District            \n",
       "Rural/Urban                             Rural Total Urban\n",
       "State_District                                           \n",
       "Andaman and Nicobar Islands_Nicobars      1.0   1.0   NaN\n",
       "Andhra Pradesh_Chittoor                   1.0   1.0   1.0\n",
       "Arunachal Pradesh_West Kameng             1.0   1.0   1.0\n",
       "Chhattisgarh_Jashpur                      1.0   1.0   1.0\n",
       "Chhattisgarh_Surguja                      1.0   1.0   1.0\n",
       "Himachal Pradesh_Kinnaur                  1.0   1.0   NaN\n",
       "Himachal Pradesh_Lahul and Spiti          1.0   1.0   NaN\n",
       "Jharkhand_Khunti                          1.0   1.0   1.0\n",
       "Madhya Pradesh_Anuppur                    1.0   1.0   1.0\n",
       "Maharashtra_Mumbai                        NaN   1.0   1.0\n",
       "Maharashtra_Mumbai Suburban               NaN   1.0   1.0\n",
       "Nct Of Delhi_Central                      NaN   1.0   1.0\n",
       "Nct Of Delhi_New Delhi                    NaN   1.0   1.0\n",
       "Pondicherry_Mahe                          NaN   1.0   1.0\n",
       "Pondicherry_Yanam                         NaN   1.0   1.0\n",
       "Rajasthan_Bharatpur                       1.0   1.0   1.0\n",
       "Tamil Nadu_Chennai                        NaN   1.0   1.0\n",
       "Telangana_Hyderabad                       NaN   1.0   1.0\n",
       "West Bengal_Kolkata                       NaN   1.0   1.0"
      ]
     },
     "execution_count": 61,
     "metadata": {},
     "output_type": "execute_result"
    }
   ],
   "source": [
    "# I could see some of Rural/Urabn type is not given for some District, hence they become Nan\n",
    "dist_list_with_None = housing_abs_value[housing_abs_value.isna().any(axis=1)][\"State_District\"]\n",
    "t = housing_col_filtered.loc[housing_col_filtered[\"State_District\"].isin(dist_list_with_None)]\n",
    "pd.pivot_table(t,\n",
    "              index=[\"State_District\"],\n",
    "              columns=[\"Rural/Urban\"],\n",
    "               values=[\"District\"],\n",
    "              aggfunc = 'count')"
   ]
  },
  {
   "cell_type": "code",
   "execution_count": 62,
   "id": "13714a3e",
   "metadata": {},
   "outputs": [
    {
     "name": "stdout",
     "output_type": "stream",
     "text": [
      "{'Jharkhand_Khunti', 'Madhya Pradesh_Anuppur'}\n"
     ]
    },
    {
     "data": {
      "text/html": [
       "<div>\n",
       "<style scoped>\n",
       "    .dataframe tbody tr th:only-of-type {\n",
       "        vertical-align: middle;\n",
       "    }\n",
       "\n",
       "    .dataframe tbody tr th {\n",
       "        vertical-align: top;\n",
       "    }\n",
       "\n",
       "    .dataframe thead th {\n",
       "        text-align: right;\n",
       "    }\n",
       "</style>\n",
       "<table border=\"1\" class=\"dataframe\">\n",
       "  <thead>\n",
       "    <tr style=\"text-align: right;\">\n",
       "      <th></th>\n",
       "      <th>State/UT</th>\n",
       "      <th>District</th>\n",
       "      <th>Population</th>\n",
       "      <th>Male</th>\n",
       "      <th>Female</th>\n",
       "      <th>Literate</th>\n",
       "      <th>Literate_Male</th>\n",
       "      <th>Literate_Female</th>\n",
       "      <th>Households_Rural</th>\n",
       "      <th>Households_Urban</th>\n",
       "      <th>Households</th>\n",
       "      <th>Young_and_Adult</th>\n",
       "      <th>Middle_Aged</th>\n",
       "      <th>Senior_Citizen</th>\n",
       "      <th>Age_Not_Stated</th>\n",
       "      <th>State_District</th>\n",
       "    </tr>\n",
       "  </thead>\n",
       "  <tbody>\n",
       "    <tr>\n",
       "      <th>364</th>\n",
       "      <td>Jharkhand</td>\n",
       "      <td>Khunti</td>\n",
       "      <td>531885.0</td>\n",
       "      <td>266335.0</td>\n",
       "      <td>265550.0</td>\n",
       "      <td>284575.0</td>\n",
       "      <td>164741.0</td>\n",
       "      <td>119834.0</td>\n",
       "      <td>NaN</td>\n",
       "      <td>NaN</td>\n",
       "      <td>135719.0</td>\n",
       "      <td>327152.0</td>\n",
       "      <td>125649.0</td>\n",
       "      <td>78736.0</td>\n",
       "      <td>348.0</td>\n",
       "      <td>Jharkhand_Khunti</td>\n",
       "    </tr>\n",
       "    <tr>\n",
       "      <th>460</th>\n",
       "      <td>Madhya Pradesh</td>\n",
       "      <td>Anuppur</td>\n",
       "      <td>749237.0</td>\n",
       "      <td>379114.0</td>\n",
       "      <td>370123.0</td>\n",
       "      <td>436595.0</td>\n",
       "      <td>254120.0</td>\n",
       "      <td>182475.0</td>\n",
       "      <td>NaN</td>\n",
       "      <td>NaN</td>\n",
       "      <td>207713.0</td>\n",
       "      <td>NaN</td>\n",
       "      <td>193520.0</td>\n",
       "      <td>NaN</td>\n",
       "      <td>950.0</td>\n",
       "      <td>Madhya Pradesh_Anuppur</td>\n",
       "    </tr>\n",
       "  </tbody>\n",
       "</table>\n",
       "</div>"
      ],
      "text/plain": [
       "           State/UT District  Population      Male    Female  Literate  \\\n",
       "364       Jharkhand   Khunti    531885.0  266335.0  265550.0  284575.0   \n",
       "460  Madhya Pradesh  Anuppur    749237.0  379114.0  370123.0  436595.0   \n",
       "\n",
       "     Literate_Male  Literate_Female  Households_Rural  Households_Urban  \\\n",
       "364       164741.0         119834.0               NaN               NaN   \n",
       "460       254120.0         182475.0               NaN               NaN   \n",
       "\n",
       "     Households  Young_and_Adult  Middle_Aged  Senior_Citizen  Age_Not_Stated  \\\n",
       "364    135719.0         327152.0     125649.0         78736.0           348.0   \n",
       "460    207713.0              NaN     193520.0             NaN           950.0   \n",
       "\n",
       "             State_District  \n",
       "364        Jharkhand_Khunti  \n",
       "460  Madhya Pradesh_Anuppur  "
      ]
     },
     "execution_count": 62,
     "metadata": {},
     "output_type": "execute_result"
    }
   ],
   "source": [
    "rural_dist_missing = census_renamed_cols[census_renamed_cols[\"Households_Rural\"].isna()][\"State_District\"]\n",
    "uraban_dist_missing = census_renamed_cols[census_renamed_cols[\"Households_Urban\"].isna()][\"State_District\"]\n",
    "print(set(rural_dist_missing).intersection(set(uraban_dist_missing)))\n",
    "housing_col_filtered[housing_col_filtered[\"State_District\"].isin(set(rural_dist_missing).intersection(set(uraban_dist_missing)))]\n",
    "# For below State-Distrcit, The Household is Nan in census data\n",
    "census_renamed_cols.loc[census_renamed_cols[\"State_District\"].isin(housing_col_filtered[housing_col_filtered[\"State_District\"].isin(set(rural_dist_missing).intersection(set(uraban_dist_missing)))][\"State_District\"].unique().tolist())]\n",
    "# For these two district even through Rural is present in categroy, the Household value are Nan in census data"
   ]
  },
  {
   "cell_type": "code",
   "execution_count": 63,
   "id": "9fed72c0",
   "metadata": {},
   "outputs": [],
   "source": [
    "# Rounding the Values\n",
    "numeric_cols = housing_abs_value.select_dtypes(include='number').columns\n",
    "housing_abs_value[numeric_cols] = housing_abs_value[numeric_cols].apply(lambda x: round(x))"
   ]
  },
  {
   "cell_type": "code",
   "execution_count": 64,
   "id": "4e544e0c",
   "metadata": {},
   "outputs": [],
   "source": [
    "housing_abs_value.drop(\"State_District\", axis=1).to_csv(\"Clean/housing_with_state.csv\")"
   ]
  },
  {
   "cell_type": "markdown",
   "id": "72f46054",
   "metadata": {},
   "source": [
    "### Problem 8"
   ]
  },
  {
   "cell_type": "code",
   "execution_count": 65,
   "id": "94448689",
   "metadata": {},
   "outputs": [
    {
     "data": {
      "text/plain": [
       "'\\nProblem Statement 8: (Visualise the housing data)\\nVisualize the following data for each state using appropriate methods:\\n\\uf0d8\\tNumber of households for 100 people\\n\\uf0d8\\tPercentage of households that have toilet(s) in premise to the total number of households.\\n\\uf0d8\\tUrban to rural population ratio.\\n'"
      ]
     },
     "execution_count": 65,
     "metadata": {},
     "output_type": "execute_result"
    }
   ],
   "source": [
    "\"\"\"\n",
    "Problem Statement 8: (Visualise the housing data)\n",
    "Visualize the following data for each state using appropriate methods:\n",
    "\tNumber of households for 100 people\n",
    "\tPercentage of households that have toilet(s) in premise to the total number of households.\n",
    "\tUrban to rural population ratio.\n",
    "\"\"\""
   ]
  },
  {
   "cell_type": "code",
   "execution_count": 66,
   "id": "b72cf4eb",
   "metadata": {},
   "outputs": [
    {
     "data": {
      "text/plain": [
       "<Axes: ylabel='State/UT'>"
      ]
     },
     "execution_count": 66,
     "metadata": {},
     "output_type": "execute_result"
    },
    {
     "data": {
      "image/png": "[encoded data removed]",
      "text/plain": [
       "<Figure size 2000x4000 with 1 Axes>"
      ]
     },
     "metadata": {},
     "output_type": "display_data"
    }
   ],
   "source": [
    "census_renamed_cols[[\n",
    "    \"State/UT\", \n",
    "    \"Households\", \n",
    "    \"Population\"]\n",
    "].groupby(\"State/UT\").sum().apply(\n",
    "#     (Household / Population) * 100\n",
    "    lambda x: x[0]*100/x[1], axis=1\n",
    ").plot.barh(figsize=(20, 40))"
   ]
  },
  {
   "cell_type": "code",
   "execution_count": 67,
   "id": "49b4439b",
   "metadata": {},
   "outputs": [
    {
     "data": {
      "text/plain": [
       "<Axes: ylabel='State/UT'>"
      ]
     },
     "execution_count": 67,
     "metadata": {},
     "output_type": "execute_result"
    },
    {
     "data": {
      "image/png": "[encoded data removed]",
      "text/plain": [
       "<Figure size 2000x4000 with 1 Axes>"
      ]
     },
     "metadata": {},
     "output_type": "display_data"
    }
   ],
   "source": [
    "census_renamed_cols[[\n",
    "    \"State/UT\",\n",
    "    \"District\"\n",
    "]].merge(housing_abs_value[[\n",
    "    \"State/UT\",\n",
    "    \"District\", \n",
    "    \"Households_Rural\",\n",
    "    \"Households_Urban\",\n",
    "    \"Households_Rural_Toilet_Premise\", \n",
    "    \"Households_Urban_Toilet_Premise\"]\n",
    "], on=[\"State/UT\", \"District\"], how=\"outer\").groupby(\"State/UT\")[[\n",
    "    \"Households_Rural\",\n",
    "    \"Households_Urban\",\n",
    "    \"Households_Rural_Toilet_Premise\", \n",
    "    \"Households_Urban_Toilet_Premise\"\n",
    "]].sum().apply(\n",
    "    # (Households_Rural_Toilet_Premise + Households_Urban_Toilet_Premise) / (Households_Rural + Households_Urban)\n",
    "    lambda x: (x[2] + x[3])/(x[0] + x[1]) * 100, axis=1\n",
    ").plot.barh(figsize=(20, 40))"
   ]
  },
  {
   "cell_type": "code",
   "execution_count": 68,
   "id": "9292f438",
   "metadata": {},
   "outputs": [
    {
     "data": {
      "text/plain": [
       "<Axes: ylabel='State/UT'>"
      ]
     },
     "execution_count": 68,
     "metadata": {},
     "output_type": "execute_result"
    },
    {
     "data": {
      "image/png": "[encoded data removed]",
      "text/plain": [
       "<Figure size 2000x4000 with 1 Axes>"
      ]
     },
     "metadata": {},
     "output_type": "display_data"
    }
   ],
   "source": [
    "# We dont have Urban and Rural population\n",
    "# But we have Urban and Rural Household data\n",
    "# Since Household is propotional to population\n",
    "# Also we can get average population per household, but still it will cancel out during calculation\n",
    "# I assume finding household give a reasonable Urban-Rural ratio \n",
    "census_renamed_cols[[\n",
    "    \"State/UT\",\n",
    "    \"District\"\n",
    "]].merge(housing_abs_value[[\n",
    "    \"State/UT\",\n",
    "    \"District\", \n",
    "    \"Households_Rural\",\n",
    "    \"Households_Urban\"]\n",
    "], on=[\"State/UT\", \"District\"], how=\"outer\").groupby(\"State/UT\")[[\n",
    "    \"Households_Rural\",\n",
    "    \"Households_Urban\"\n",
    "]].sum().apply(\n",
    "    # (Households_Rural / Households_Urban)\n",
    "    lambda x: (x[0] / x[1]) * 100, axis=1\n",
    ").plot.barh(figsize=(20, 40))"
   ]
  },
  {
   "cell_type": "markdown",
   "id": "760b077d",
   "metadata": {},
   "source": [
    "### Problem 9"
   ]
  },
  {
   "cell_type": "code",
   "execution_count": 69,
   "id": "e8704ec2",
   "metadata": {},
   "outputs": [
    {
     "data": {
      "text/html": [
       "<div>\n",
       "<style scoped>\n",
       "    .dataframe tbody tr th:only-of-type {\n",
       "        vertical-align: middle;\n",
       "    }\n",
       "\n",
       "    .dataframe tbody tr th {\n",
       "        vertical-align: top;\n",
       "    }\n",
       "\n",
       "    .dataframe thead th {\n",
       "        text-align: right;\n",
       "    }\n",
       "</style>\n",
       "<table border=\"1\" class=\"dataframe\">\n",
       "  <thead>\n",
       "    <tr style=\"text-align: right;\">\n",
       "      <th></th>\n",
       "      <th>State/UT</th>\n",
       "      <th>District</th>\n",
       "      <th>Households_Rural_census</th>\n",
       "      <th>Households_Urban_census</th>\n",
       "      <th>Households_Rural_housing</th>\n",
       "      <th>Households_Urban_housing</th>\n",
       "    </tr>\n",
       "  </thead>\n",
       "  <tbody>\n",
       "    <tr>\n",
       "      <th>24</th>\n",
       "      <td>Himachal Pradesh</td>\n",
       "      <td>Lahul and Spiti</td>\n",
       "      <td>17434.0</td>\n",
       "      <td>0.0</td>\n",
       "      <td>17434.0</td>\n",
       "      <td>NaN</td>\n",
       "    </tr>\n",
       "    <tr>\n",
       "      <th>33</th>\n",
       "      <td>Himachal Pradesh</td>\n",
       "      <td>Kinnaur</td>\n",
       "      <td>44514.0</td>\n",
       "      <td>0.0</td>\n",
       "      <td>44514.0</td>\n",
       "      <td>NaN</td>\n",
       "    </tr>\n",
       "    <tr>\n",
       "      <th>93</th>\n",
       "      <td>Nct Of Delhi</td>\n",
       "      <td>New Delhi</td>\n",
       "      <td>0.0</td>\n",
       "      <td>52664.0</td>\n",
       "      <td>NaN</td>\n",
       "      <td>52664.0</td>\n",
       "    </tr>\n",
       "    <tr>\n",
       "      <th>94</th>\n",
       "      <td>Nct Of Delhi</td>\n",
       "      <td>Central</td>\n",
       "      <td>0.0</td>\n",
       "      <td>194897.0</td>\n",
       "      <td>NaN</td>\n",
       "      <td>194897.0</td>\n",
       "    </tr>\n",
       "    <tr>\n",
       "      <th>104</th>\n",
       "      <td>Rajasthan</td>\n",
       "      <td>Bharatpur</td>\n",
       "      <td>NaN</td>\n",
       "      <td>129697.0</td>\n",
       "      <td>NaN</td>\n",
       "      <td>129697.0</td>\n",
       "    </tr>\n",
       "    <tr>\n",
       "      <th>245</th>\n",
       "      <td>Arunachal Pradesh</td>\n",
       "      <td>West Kameng</td>\n",
       "      <td>17889.0</td>\n",
       "      <td>NaN</td>\n",
       "      <td>17889.0</td>\n",
       "      <td>NaN</td>\n",
       "    </tr>\n",
       "    <tr>\n",
       "      <th>341</th>\n",
       "      <td>West Bengal</td>\n",
       "      <td>Kolkata</td>\n",
       "      <td>0.0</td>\n",
       "      <td>1308106.0</td>\n",
       "      <td>NaN</td>\n",
       "      <td>1308106.0</td>\n",
       "    </tr>\n",
       "    <tr>\n",
       "      <th>364</th>\n",
       "      <td>Jharkhand</td>\n",
       "      <td>Khunti</td>\n",
       "      <td>NaN</td>\n",
       "      <td>NaN</td>\n",
       "      <td>NaN</td>\n",
       "      <td>NaN</td>\n",
       "    </tr>\n",
       "    <tr>\n",
       "      <th>400</th>\n",
       "      <td>Chhattisgarh</td>\n",
       "      <td>Surguja</td>\n",
       "      <td>NaN</td>\n",
       "      <td>65167.0</td>\n",
       "      <td>NaN</td>\n",
       "      <td>65167.0</td>\n",
       "    </tr>\n",
       "    <tr>\n",
       "      <th>401</th>\n",
       "      <td>Chhattisgarh</td>\n",
       "      <td>Jashpur</td>\n",
       "      <td>NaN</td>\n",
       "      <td>20722.0</td>\n",
       "      <td>NaN</td>\n",
       "      <td>20722.0</td>\n",
       "    </tr>\n",
       "    <tr>\n",
       "      <th>460</th>\n",
       "      <td>Madhya Pradesh</td>\n",
       "      <td>Anuppur</td>\n",
       "      <td>NaN</td>\n",
       "      <td>NaN</td>\n",
       "      <td>NaN</td>\n",
       "      <td>NaN</td>\n",
       "    </tr>\n",
       "    <tr>\n",
       "      <th>517</th>\n",
       "      <td>Maharashtra</td>\n",
       "      <td>Mumbai Suburban</td>\n",
       "      <td>0.0</td>\n",
       "      <td>3078829.0</td>\n",
       "      <td>NaN</td>\n",
       "      <td>3078829.0</td>\n",
       "    </tr>\n",
       "    <tr>\n",
       "      <th>518</th>\n",
       "      <td>Maharashtra</td>\n",
       "      <td>Mumbai</td>\n",
       "      <td>0.0</td>\n",
       "      <td>1107321.0</td>\n",
       "      <td>NaN</td>\n",
       "      <td>1107321.0</td>\n",
       "    </tr>\n",
       "    <tr>\n",
       "      <th>535</th>\n",
       "      <td>Telangana</td>\n",
       "      <td>Hyderabad</td>\n",
       "      <td>0.0</td>\n",
       "      <td>1066289.0</td>\n",
       "      <td>NaN</td>\n",
       "      <td>1066289.0</td>\n",
       "    </tr>\n",
       "    <tr>\n",
       "      <th>553</th>\n",
       "      <td>Andhra Pradesh</td>\n",
       "      <td>Chittoor</td>\n",
       "      <td>NaN</td>\n",
       "      <td>395900.0</td>\n",
       "      <td>NaN</td>\n",
       "      <td>395900.0</td>\n",
       "    </tr>\n",
       "    <tr>\n",
       "      <th>602</th>\n",
       "      <td>Tamil Nadu</td>\n",
       "      <td>Chennai</td>\n",
       "      <td>0.0</td>\n",
       "      <td>1314125.0</td>\n",
       "      <td>NaN</td>\n",
       "      <td>1314125.0</td>\n",
       "    </tr>\n",
       "    <tr>\n",
       "      <th>633</th>\n",
       "      <td>Pondicherry</td>\n",
       "      <td>Yanam</td>\n",
       "      <td>0.0</td>\n",
       "      <td>15519.0</td>\n",
       "      <td>NaN</td>\n",
       "      <td>15519.0</td>\n",
       "    </tr>\n",
       "    <tr>\n",
       "      <th>635</th>\n",
       "      <td>Pondicherry</td>\n",
       "      <td>Mahe</td>\n",
       "      <td>0.0</td>\n",
       "      <td>12110.0</td>\n",
       "      <td>NaN</td>\n",
       "      <td>12110.0</td>\n",
       "    </tr>\n",
       "    <tr>\n",
       "      <th>637</th>\n",
       "      <td>Andaman and Nicobar Islands</td>\n",
       "      <td>Nicobars</td>\n",
       "      <td>15958.0</td>\n",
       "      <td>0.0</td>\n",
       "      <td>15958.0</td>\n",
       "      <td>NaN</td>\n",
       "    </tr>\n",
       "  </tbody>\n",
       "</table>\n",
       "</div>"
      ],
      "text/plain": [
       "                        State/UT         District  Households_Rural_census  \\\n",
       "24              Himachal Pradesh  Lahul and Spiti                  17434.0   \n",
       "33              Himachal Pradesh          Kinnaur                  44514.0   \n",
       "93                  Nct Of Delhi        New Delhi                      0.0   \n",
       "94                  Nct Of Delhi          Central                      0.0   \n",
       "104                    Rajasthan        Bharatpur                      NaN   \n",
       "245            Arunachal Pradesh      West Kameng                  17889.0   \n",
       "341                  West Bengal          Kolkata                      0.0   \n",
       "364                    Jharkhand           Khunti                      NaN   \n",
       "400                 Chhattisgarh          Surguja                      NaN   \n",
       "401                 Chhattisgarh          Jashpur                      NaN   \n",
       "460               Madhya Pradesh          Anuppur                      NaN   \n",
       "517                  Maharashtra  Mumbai Suburban                      0.0   \n",
       "518                  Maharashtra           Mumbai                      0.0   \n",
       "535                    Telangana        Hyderabad                      0.0   \n",
       "553               Andhra Pradesh         Chittoor                      NaN   \n",
       "602                   Tamil Nadu          Chennai                      0.0   \n",
       "633                  Pondicherry            Yanam                      0.0   \n",
       "635                  Pondicherry             Mahe                      0.0   \n",
       "637  Andaman and Nicobar Islands         Nicobars                  15958.0   \n",
       "\n",
       "     Households_Urban_census  Households_Rural_housing  \\\n",
       "24                       0.0                   17434.0   \n",
       "33                       0.0                   44514.0   \n",
       "93                   52664.0                       NaN   \n",
       "94                  194897.0                       NaN   \n",
       "104                 129697.0                       NaN   \n",
       "245                      NaN                   17889.0   \n",
       "341                1308106.0                       NaN   \n",
       "364                      NaN                       NaN   \n",
       "400                  65167.0                       NaN   \n",
       "401                  20722.0                       NaN   \n",
       "460                      NaN                       NaN   \n",
       "517                3078829.0                       NaN   \n",
       "518                1107321.0                       NaN   \n",
       "535                1066289.0                       NaN   \n",
       "553                 395900.0                       NaN   \n",
       "602                1314125.0                       NaN   \n",
       "633                  15519.0                       NaN   \n",
       "635                  12110.0                       NaN   \n",
       "637                      0.0                   15958.0   \n",
       "\n",
       "     Households_Urban_housing  \n",
       "24                        NaN  \n",
       "33                        NaN  \n",
       "93                    52664.0  \n",
       "94                   194897.0  \n",
       "104                  129697.0  \n",
       "245                       NaN  \n",
       "341                 1308106.0  \n",
       "364                       NaN  \n",
       "400                   65167.0  \n",
       "401                   20722.0  \n",
       "460                       NaN  \n",
       "517                 3078829.0  \n",
       "518                 1107321.0  \n",
       "535                 1066289.0  \n",
       "553                  395900.0  \n",
       "602                 1314125.0  \n",
       "633                   15519.0  \n",
       "635                   12110.0  \n",
       "637                       NaN  "
      ]
     },
     "execution_count": 69,
     "metadata": {},
     "output_type": "execute_result"
    }
   ],
   "source": [
    "census_housing_rural_urban = census_renamed_cols[[\n",
    "    \"State/UT\",\n",
    "    \"District\",\n",
    "    \"Households_Rural\",\n",
    "    \"Households_Urban\"\n",
    "]].merge(\n",
    "    housing_abs_value[[\n",
    "    \"State/UT\",\n",
    "    \"District\", \n",
    "    \"Households_Rural\",\n",
    "    \"Households_Urban\"]\n",
    "    ],\n",
    "    on=[\"State/UT\",\"District\"],\n",
    "    how=\"outer\",\n",
    "    suffixes=(\"_census\", \"_housing\")\n",
    ")\n",
    "\n",
    "census_housing_rural_urban[census_housing_rural_urban.isna().any(axis=1)]"
   ]
  },
  {
   "cell_type": "code",
   "execution_count": 70,
   "id": "fd286f57",
   "metadata": {},
   "outputs": [],
   "source": [
    "# I am filling NaN as 0. Since some of Nan matches with 0 in other excel, some have both Nan hence considering them as well same\n",
    "census_housing_rural_urban = census_housing_rural_urban.fillna(0)"
   ]
  },
  {
   "cell_type": "code",
   "execution_count": 71,
   "id": "b3de65f1",
   "metadata": {},
   "outputs": [],
   "source": [
    "census_housing_rural_urban[\"Households_Rural_percent\"] = census_housing_rural_urban[[\"Households_Rural_census\", \"Households_Rural_housing\"]].apply(lambda x: abs(x[0]-x[1])*100/x[0] if x[0] else abs(x[0]-x[1]) , axis=1)\n",
    "census_housing_rural_urban[\"Households_Urban_percent\"] = census_housing_rural_urban[[\"Households_Urban_census\", \"Households_Urban_housing\"]].apply(lambda x: abs(x[0]-x[1])*100/x[0] if x[0] else abs(x[0]-x[1]) , axis=1)"
   ]
  },
  {
   "cell_type": "code",
   "execution_count": 72,
   "id": "2c421ae2",
   "metadata": {
    "scrolled": true
   },
   "outputs": [
    {
     "data": {
      "text/html": [
       "<div>\n",
       "<style scoped>\n",
       "    .dataframe tbody tr th:only-of-type {\n",
       "        vertical-align: middle;\n",
       "    }\n",
       "\n",
       "    .dataframe tbody tr th {\n",
       "        vertical-align: top;\n",
       "    }\n",
       "\n",
       "    .dataframe thead th {\n",
       "        text-align: right;\n",
       "    }\n",
       "</style>\n",
       "<table border=\"1\" class=\"dataframe\">\n",
       "  <thead>\n",
       "    <tr style=\"text-align: right;\">\n",
       "      <th></th>\n",
       "      <th>State/UT</th>\n",
       "      <th>District</th>\n",
       "      <th>Households_Rural_census</th>\n",
       "      <th>Households_Urban_census</th>\n",
       "      <th>Households_Rural_housing</th>\n",
       "      <th>Households_Urban_housing</th>\n",
       "      <th>Households_Rural_percent</th>\n",
       "      <th>Households_Urban_percent</th>\n",
       "    </tr>\n",
       "  </thead>\n",
       "  <tbody>\n",
       "  </tbody>\n",
       "</table>\n",
       "</div>"
      ],
      "text/plain": [
       "Empty DataFrame\n",
       "Columns: [State/UT, District, Households_Rural_census, Households_Urban_census, Households_Rural_housing, Households_Urban_housing, Households_Rural_percent, Households_Urban_percent]\n",
       "Index: []"
      ]
     },
     "execution_count": 72,
     "metadata": {},
     "output_type": "execute_result"
    }
   ],
   "source": [
    "# Getting the Distrcit with more diff in percentage than thresh\n",
    "percent = 0\n",
    "census_housing_rural_urban[(census_housing_rural_urban[\"Households_Rural_percent\"]>percent) | (census_housing_rural_urban[\"Households_Urban_percent\"]>percent)]\n",
    "# Seems like the data is exactly matching"
   ]
  },
  {
   "cell_type": "markdown",
   "id": "2bcfe699",
   "metadata": {},
   "source": [
    "### Problem 10"
   ]
  },
  {
   "cell_type": "code",
   "execution_count": 88,
   "id": "917dd1a9",
   "metadata": {},
   "outputs": [],
   "source": [
    "hospital = pd.read_csv(\"Data/hospitals.csv\")"
   ]
  },
  {
   "cell_type": "code",
   "execution_count": 89,
   "id": "fc114166",
   "metadata": {},
   "outputs": [
    {
     "data": {
      "text/html": [
       "<div>\n",
       "<style scoped>\n",
       "    .dataframe tbody tr th:only-of-type {\n",
       "        vertical-align: middle;\n",
       "    }\n",
       "\n",
       "    .dataframe tbody tr th {\n",
       "        vertical-align: top;\n",
       "    }\n",
       "\n",
       "    .dataframe thead th {\n",
       "        text-align: right;\n",
       "    }\n",
       "</style>\n",
       "<table border=\"1\" class=\"dataframe\">\n",
       "  <thead>\n",
       "    <tr style=\"text-align: right;\">\n",
       "      <th></th>\n",
       "      <th>Unnamed: 0</th>\n",
       "      <th>PHC</th>\n",
       "      <th>CHC</th>\n",
       "      <th>SDH</th>\n",
       "      <th>DH</th>\n",
       "      <th>Hospitals</th>\n",
       "      <th>HospitalBeds</th>\n",
       "    </tr>\n",
       "  </thead>\n",
       "  <tbody>\n",
       "    <tr>\n",
       "      <th>0</th>\n",
       "      <td>Andaman &amp; Nicobar Islands</td>\n",
       "      <td>27</td>\n",
       "      <td>4</td>\n",
       "      <td>NaN</td>\n",
       "      <td>3</td>\n",
       "      <td>34</td>\n",
       "      <td>1246</td>\n",
       "    </tr>\n",
       "    <tr>\n",
       "      <th>1</th>\n",
       "      <td>Andhra Pradesh</td>\n",
       "      <td>1417</td>\n",
       "      <td>198</td>\n",
       "      <td>31</td>\n",
       "      <td>20</td>\n",
       "      <td>1666</td>\n",
       "      <td>60799</td>\n",
       "    </tr>\n",
       "    <tr>\n",
       "      <th>2</th>\n",
       "      <td>Arunachal Pradesh</td>\n",
       "      <td>122</td>\n",
       "      <td>62</td>\n",
       "      <td>NaN</td>\n",
       "      <td>15</td>\n",
       "      <td>199</td>\n",
       "      <td>2320</td>\n",
       "    </tr>\n",
       "  </tbody>\n",
       "</table>\n",
       "</div>"
      ],
      "text/plain": [
       "                  Unnamed: 0   PHC  CHC  SDH  DH Hospitals HospitalBeds\n",
       "0  Andaman & Nicobar Islands    27    4  NaN   3        34         1246\n",
       "1             Andhra Pradesh  1417  198   31  20      1666        60799\n",
       "2          Arunachal Pradesh   122   62  NaN  15       199         2320"
      ]
     },
     "execution_count": 89,
     "metadata": {},
     "output_type": "execute_result"
    }
   ],
   "source": [
    "hospital.head(3)"
   ]
  },
  {
   "cell_type": "code",
   "execution_count": 90,
   "id": "278ef871",
   "metadata": {},
   "outputs": [
    {
     "data": {
      "text/html": [
       "<div>\n",
       "<style scoped>\n",
       "    .dataframe tbody tr th:only-of-type {\n",
       "        vertical-align: middle;\n",
       "    }\n",
       "\n",
       "    .dataframe tbody tr th {\n",
       "        vertical-align: top;\n",
       "    }\n",
       "\n",
       "    .dataframe thead th {\n",
       "        text-align: right;\n",
       "    }\n",
       "</style>\n",
       "<table border=\"1\" class=\"dataframe\">\n",
       "  <thead>\n",
       "    <tr style=\"text-align: right;\">\n",
       "      <th></th>\n",
       "      <th>Acronyms</th>\n",
       "    </tr>\n",
       "  </thead>\n",
       "  <tbody>\n",
       "    <tr>\n",
       "      <th>0</th>\n",
       "      <td>Number of Primary Health Centers(PHCs),</td>\n",
       "    </tr>\n",
       "    <tr>\n",
       "      <th>1</th>\n",
       "      <td>Community Health Centers(CHCs),</td>\n",
       "    </tr>\n",
       "    <tr>\n",
       "      <th>2</th>\n",
       "      <td>Sub-District/Divisional Hospitals(SDHs)</td>\n",
       "    </tr>\n",
       "    <tr>\n",
       "      <th>3</th>\n",
       "      <td>District Hospitals(DHs)</td>\n",
       "    </tr>\n",
       "  </tbody>\n",
       "</table>\n",
       "</div>"
      ],
      "text/plain": [
       "                                   Acronyms\n",
       "0  Number of Primary Health Centers(PHCs), \n",
       "1          Community Health Centers(CHCs), \n",
       "2   Sub-District/Divisional Hospitals(SDHs)\n",
       "3                  District Hospitals(DHs) "
      ]
     },
     "execution_count": 90,
     "metadata": {},
     "output_type": "execute_result"
    }
   ],
   "source": [
    "pd.read_csv(\"Data/metadata.csv\")"
   ]
  },
  {
   "cell_type": "code",
   "execution_count": 91,
   "id": "56e67643",
   "metadata": {},
   "outputs": [],
   "source": [
    "rename_dict = { \"Unnamed: 0\": \"State/UT\",\n",
    "    \"PHC\": \"Number of Primary Health Centers(PHCs)\",\n",
    "    \"CHC\": \"Community Health Centers(CHCs)\",\n",
    "    \"SDH\": \"Sub-District/Divisional Hospitals(SDHs)\",\n",
    "    \"DH\": \"District Hospitals(DHs)\"}\n",
    "hospital_renamed = hospital.rename(rename_dict, axis=1)"
   ]
  },
  {
   "cell_type": "markdown",
   "id": "d7b70477",
   "metadata": {},
   "source": [
    "### Problem 11"
   ]
  },
  {
   "cell_type": "code",
   "execution_count": 92,
   "id": "9381f34c",
   "metadata": {},
   "outputs": [],
   "source": [
    "# I've written the function in Problem 3\n",
    "hospital_renamed = state_name_correction(hospital_renamed, \"State/UT\")"
   ]
  },
  {
   "cell_type": "code",
   "execution_count": 93,
   "id": "a62e0b6b",
   "metadata": {},
   "outputs": [
    {
     "data": {
      "text/plain": [
       "Index(['State/UT', 'Number of Primary Health Centers(PHCs)',\n",
       "       'Community Health Centers(CHCs)',\n",
       "       'Sub-District/Divisional Hospitals(SDHs)', 'District Hospitals(DHs)',\n",
       "       'Hospitals', 'HospitalBeds'],\n",
       "      dtype='object')"
      ]
     },
     "execution_count": 93,
     "metadata": {},
     "output_type": "execute_result"
    }
   ],
   "source": [
    "hospital_renamed.columns"
   ]
  },
  {
   "cell_type": "code",
   "execution_count": 94,
   "id": "b9c06706",
   "metadata": {},
   "outputs": [
    {
     "name": "stdout",
     "output_type": "stream",
     "text": [
      "<class 'pandas.core.frame.DataFrame'>\n",
      "RangeIndex: 37 entries, 0 to 36\n",
      "Data columns (total 7 columns):\n",
      " #   Column                                   Non-Null Count  Dtype  \n",
      "---  ------                                   --------------  -----  \n",
      " 0   State/UT                                 37 non-null     object \n",
      " 1   Number of Primary Health Centers(PHCs)   37 non-null     int64  \n",
      " 2   Community Health Centers(CHCs)           37 non-null     int64  \n",
      " 3   Sub-District/Divisional Hospitals(SDHs)  30 non-null     float64\n",
      " 4   District Hospitals(DHs)                  37 non-null     int64  \n",
      " 5   Hospitals                                37 non-null     int64  \n",
      " 6   HospitalBeds                             37 non-null     int64  \n",
      "dtypes: float64(1), int64(5), object(1)\n",
      "memory usage: 2.1+ KB\n"
     ]
    }
   ],
   "source": [
    "cols = ['Number of Primary Health Centers(PHCs)',\n",
    "        'Community Health Centers(CHCs)',\n",
    "        'Sub-District/Divisional Hospitals(SDHs)', \n",
    "        'District Hospitals(DHs)',\n",
    "        'Hospitals',\n",
    "        'HospitalBeds']\n",
    "for col in cols:\n",
    "    hospital_renamed[col] = pd.to_numeric(hospital_renamed[col].str.replace(\",\", \"\"))"
   ]
  },
  {
   "cell_type": "code",
   "execution_count": 96,
   "id": "3861cb60",
   "metadata": {},
   "outputs": [],
   "source": [
    "hospital_renamed.to_csv(\"Clean/all_hospitals.csv\")"
   ]
  },
  {
   "cell_type": "markdown",
   "id": "8105fbe2",
   "metadata": {},
   "source": [
    "### Problem Statement 12"
   ]
  },
  {
   "cell_type": "code",
   "execution_count": null,
   "id": "01656957",
   "metadata": {},
   "outputs": [],
   "source": [
    "# First I am getting Ppulation data from census and adding a new column in hospital df\n",
    "# For \"All India\", I am adding all Population\n",
    "hospital_renamed = hospital_renamed.set_index(\"State/UT\")\n",
    "hospital_renamed[\"Population\"] = census_renamed_cols.groupby(\"State/UT\")[\"Population\"].sum()\n",
    "hospital_renamed = hospital_renamed.reset_index()\n",
    "hospital_renamed.loc[hospital_renamed[\"State/UT\"] == \"All India\", \"Population\"] = hospital_renamed.loc[hospital_renamed[\"State/UT\"] != \"All India\", \"Population\"].sum()"
   ]
  },
  {
   "cell_type": "code",
   "execution_count": null,
   "id": "bf4fa947",
   "metadata": {},
   "outputs": [],
   "source": [
    "# Converting string to number\n",
    "hospital_renamed[\"HospitalBeds\"] = hospital_renamed[\"HospitalBeds\"].str.replace(\",\",\"\").astype(int)"
   ]
  },
  {
   "cell_type": "code",
   "execution_count": null,
   "id": "39df4746",
   "metadata": {},
   "outputs": [],
   "source": [
    "hospital_renamed[\"HospitalBedTo10KPopulation\"] = (hospital_renamed[\"HospitalBeds\"] /hospital_renamed[\"Population\"]) * 10000"
   ]
  },
  {
   "cell_type": "code",
   "execution_count": null,
   "id": "189b676d",
   "metadata": {
    "scrolled": true
   },
   "outputs": [],
   "source": [
    "hospital_renamed[[\"State/UT\", \"HospitalBedTo10KPopulation\"]].set_index(\"State/UT\")"
   ]
  },
  {
   "cell_type": "code",
   "execution_count": null,
   "id": "61292fff",
   "metadata": {},
   "outputs": [],
   "source": [
    "# hospital_renamed[[\"State/UT\", \"HospitalBedTo10KPopulation\"]].set_index(\"State/UT\").sort_values(\"HospitalBedTo10KPopulation\").plot.bar()\n",
    "fig,ax= plt.subplots()\n",
    "hospital_renamed[[\"State/UT\", \"HospitalBedTo10KPopulation\"]].set_index(\"State/UT\").plot(kind=\"bar\", ax=ax,figsize=(15,7))\n",
    "# hospital_renamed[[\"State/UT\", \"HospitalBedTo10KPopulation\"]].set_index(\"State/UT\").plot.bar()\n",
    "\n",
    "mean = hospital_renamed[\"HospitalBedTo10KPopulation\"].mean()\n",
    "ax.axhline(mean, color='r')"
   ]
  },
  {
   "cell_type": "code",
   "execution_count": null,
   "id": "626f512f",
   "metadata": {},
   "outputs": [],
   "source": [
    "# The Three States with least HospitalBedTo10KPopulation\n",
    "hospital_renamed[[\"State/UT\", \"HospitalBedTo10KPopulation\"]].set_index(\"State/UT\").sort_values(\"HospitalBedTo10KPopulation\").head(3)"
   ]
  },
  {
   "cell_type": "markdown",
   "id": "54a91c88",
   "metadata": {},
   "source": [
    "### Problem 13"
   ]
  },
  {
   "cell_type": "code",
   "execution_count": null,
   "id": "85416b75",
   "metadata": {},
   "outputs": [],
   "source": [
    "columns = \"\"\"State/UT\n",
    "Rural_Government_Hospitals\n",
    "Rural_Government_Beds\n",
    "Urban_Government_Hospitals\n",
    "Urban_Government_Beds\n",
    "Last_Updated\"\"\"\n",
    "\n",
    "columns_names = columns.split(\"\\n\")\n",
    "\n",
    "gov_hospital = pd.read_csv(\"Data/government_hospitals.csv\", skiprows=2, header=None, names=columns_names)"
   ]
  },
  {
   "cell_type": "markdown",
   "id": "ff70830a",
   "metadata": {},
   "source": [
    "### Problem 14"
   ]
  },
  {
   "cell_type": "code",
   "execution_count": null,
   "id": "e8195503",
   "metadata": {},
   "outputs": [],
   "source": [
    "gov_hospital[\"Last_Updated\"] = pd.to_datetime(gov_hospital[\"Last_Updated\"], format=\"%d.%m.%Y\")"
   ]
  },
  {
   "cell_type": "code",
   "execution_count": null,
   "id": "3c100d9f",
   "metadata": {},
   "outputs": [],
   "source": [
    "# The Fn is create is Problem 3\n",
    "gov_hospital = state_name_correction(gov_hospital, \"State/UT\")"
   ]
  },
  {
   "cell_type": "code",
   "execution_count": null,
   "id": "f0435c82",
   "metadata": {},
   "outputs": [],
   "source": [
    "gov_hospital.to_csv(\"Clean/government_hospital.csv\")"
   ]
  },
  {
   "cell_type": "markdown",
   "id": "b9539ef0",
   "metadata": {},
   "source": [
    "### Problem 15"
   ]
  },
  {
   "cell_type": "code",
   "execution_count": null,
   "id": "a93a12aa",
   "metadata": {},
   "outputs": [],
   "source": [
    "least_three_states = hospital_renamed[[\"State/UT\", \"HospitalBedTo10KPopulation\"]].set_index(\"State/UT\").sort_values(\"HospitalBedTo10KPopulation\").head(3).index\n",
    "print(least_three_states, least_three_states.tolist())\n",
    "\n",
    "# hospital_renamed.loc[hospital_renamed[\"State/UT\"].isin(least_three_states)].set_index(\"State/UT\")[\"Hospitals\"].astype(int)\n",
    "\n",
    "# The Lowest Hosputals is Jharkhand\n",
    "gov_hospital[gov_hospital[\"State/UT\"].isin(least_three_states)].set_index(\"State/UT\")[[\"Rural_Government_Hospitals\", \"Urban_Government_Hospitals\"]].sum(axis=1).sort_values()\n",
    "\n",
    "# hospital_renamed.loc[hospital_renamed[\"State/UT\"].isin(least_three_states)].set_index(\"State/UT\")[\"Hospitals\"].astype(int) - gov_hospital[gov_hospital[\"State/UT\"].isin(least_three_states)].set_index(\"State/UT\")[[\"Rural_Government_Hospitals\", \"Urban_Government_Hospitals\"]].sum(axis=1)"
   ]
  },
  {
   "cell_type": "markdown",
   "id": "c0843d99",
   "metadata": {},
   "source": [
    "### Problem 16"
   ]
  },
  {
   "cell_type": "code",
   "execution_count": null,
   "id": "ec7ab304",
   "metadata": {},
   "outputs": [],
   "source": [
    "hospital_renamed[\"HospitalBedTo1KPopulation\"] = (hospital_renamed[\"HospitalBeds\"] /hospital_renamed[\"Population\"]) * 1000"
   ]
  },
  {
   "cell_type": "code",
   "execution_count": null,
   "id": "e22f847f",
   "metadata": {},
   "outputs": [],
   "source": [
    "# hospital_renamed[[\"State/UT\", \"HospitalBedTo10KPopulation\"]].set_index(\"State/UT\").sort_values(\"HospitalBedTo10KPopulation\").plot.bar()\n",
    "fig,ax= plt.subplots()\n",
    "hospital_renamed[[\"State/UT\", \"HospitalBedTo1KPopulation\"]].set_index(\"State/UT\").plot(kind=\"bar\", ax=ax,figsize=(15,7))\n",
    "# hospital_renamed[[\"State/UT\", \"HospitalBedTo10KPopulation\"]].set_index(\"State/UT\").plot.bar()\n",
    "\n",
    "standard = 3\n",
    "ax.axhline(standard, color='r')"
   ]
  },
  {
   "cell_type": "markdown",
   "id": "d47c189f",
   "metadata": {},
   "source": [
    "### Problem 17"
   ]
  },
  {
   "cell_type": "code",
   "execution_count": null,
   "id": "9c6073fb",
   "metadata": {},
   "outputs": [],
   "source": [
    "# Change to Int\n",
    "hospital_renamed[\"Hospitals\"] = hospital_renamed[\"Hospitals\"].str.replace(\",\", \"\").astype(int)\n",
    "\n",
    "# Perform Floor on number\n",
    "hospital_renamed[\"AvgBedPerHospital\"] = (hospital_renamed[\"HospitalBeds\"]/hospital_renamed[\"Hospitals\"]).apply(lambda x: int(x))"
   ]
  },
  {
   "cell_type": "code",
   "execution_count": null,
   "id": "cbebafb2",
   "metadata": {},
   "outputs": [],
   "source": [
    "hospital_renamed[\"HospitalBedTo10KPopulation\"]"
   ]
  },
  {
   "cell_type": "code",
   "execution_count": null,
   "id": "85c51de3",
   "metadata": {},
   "outputs": [],
   "source": [
    "# (Standard - Current_Bed_Hospital_Ration) * Population/1000\n",
    "hospital_renamed[\"RemainigBedNeedForWHOStandard\"] = ( (3.0 - hospital_renamed[\"HospitalBedTo1KPopulation\"]).apply(lambda x: x if x>0 else 0) * hospital_renamed[\"Population\"].fillna(0) / 1000.0 ).apply(lambda x: round(x))"
   ]
  },
  {
   "cell_type": "code",
   "execution_count": null,
   "id": "13e9dd17",
   "metadata": {},
   "outputs": [],
   "source": [
    "hospital_renamed[\"RemainigBedNeedForWHOStandard\"]"
   ]
  },
  {
   "cell_type": "code",
   "execution_count": null,
   "id": "9e44f799",
   "metadata": {},
   "outputs": [],
   "source": [
    "hospital_renamed.set_index(\"State/UT\")[\"RemainigBedNeedForWHOStandard\"].plot.bar(figsize=(15,7))"
   ]
  },
  {
   "cell_type": "markdown",
   "id": "ee3dbf65",
   "metadata": {},
   "source": [
    "## Part2"
   ]
  },
  {
   "cell_type": "markdown",
   "id": "828c3909",
   "metadata": {},
   "source": [
    "### Problem 18"
   ]
  },
  {
   "cell_type": "code",
   "execution_count": null,
   "id": "1f92a69f",
   "metadata": {},
   "outputs": [],
   "source": [
    "# !pip install pyodbc"
   ]
  },
  {
   "cell_type": "code",
   "execution_count": 97,
   "id": "ea4fc878",
   "metadata": {},
   "outputs": [],
   "source": [
    "import os\n",
    "import re\n",
    "import math\n",
    "import pyodbc"
   ]
  },
  {
   "cell_type": "code",
   "execution_count": 98,
   "id": "30ecee8d",
   "metadata": {},
   "outputs": [],
   "source": [
    "# driver = \"ODBC Driver 18 for SQL Server\"\n",
    "driver = \"SQL Server\"\n",
    "server = \"DESKTOP-1CRN3V1\"\n",
    "db = \"HealthCareDB\"\n",
    "port = 1433\n",
    "# conn_url = f'DRIVER={driver};Server={server};Database={db};Port={port};Integrated Security=SSPI'\n",
    "conn_url = f'DRIVER={driver};Server={server};Port={port}'\n",
    "conn = pyodbc.connect(conn_url)"
   ]
  },
  {
   "cell_type": "code",
   "execution_count": 99,
   "id": "2bf2c795",
   "metadata": {},
   "outputs": [],
   "source": [
    "curs = conn.cursor()"
   ]
  },
  {
   "cell_type": "code",
   "execution_count": 100,
   "id": "ecd00c48",
   "metadata": {},
   "outputs": [],
   "source": [
    "# Refresh DataBase\n",
    "\n",
    "switch_db = \"use master\"\n",
    "curs.execute(switch_db)\n",
    "curs.commit()\n",
    "\n",
    "# drop_db = \"Drop database HealthCareDB\"\n",
    "# curs.execute(drop_db)\n",
    "# curs.commit()\n",
    "\n",
    "create_db = \"create database HealthCareDB\"\n",
    "curs.execute(create_db)\n",
    "curs.commit()\n",
    "\n",
    "use_db = \"use HealthCareDB\"\n",
    "curs.execute(use_db)\n",
    "curs.commit()"
   ]
  },
  {
   "cell_type": "code",
   "execution_count": 101,
   "id": "7d7515d8",
   "metadata": {},
   "outputs": [],
   "source": [
    "def create_table(file_name):\n",
    "    \n",
    "    # Parse DataFrame\n",
    "    df = pd.read_csv(file_name, infer_datetime_format=True, index_col=0)\n",
    "    \n",
    "    # Parse Date in DF\n",
    "    if \"Last_Updated\" in df.columns:\n",
    "        df[\"Last_Updated\"] = pd.to_datetime(df[\"Last_Updated\"])\n",
    "\n",
    "    # DType Mappinf For Creatinf Table\n",
    "    dtype_map = {\n",
    "        \"object\": \"varchar(50)\",\n",
    "        \"int64\": \"int\",\n",
    "        \"float64\": \"decimal(10, 2)\",\n",
    "        \"datetime64[ns]\": \"date\",\n",
    "    }\n",
    "    \n",
    "    # Replace / with _ in col names\n",
    "    pat = \"/|-| |\\)|\\(\"\n",
    "    \n",
    "    col_to_be_rep = [col for col in df.columns if re.search(pat, col)]\n",
    "    rename_map = {col: re.sub(pat, \"_\", col) for col in col_to_be_rep}\n",
    "    df = df.rename(rename_map, axis=1)\n",
    "\n",
    "    # -------------------------------------Create Table Starts------------------------------------------------\n",
    "    table_name = file_name.split(\"/\")[-1].split(\".\")[0]\n",
    "    create_table_query = f\"\"\"\n",
    "    create table {table_name}(\n",
    "    \"\"\"\n",
    "\n",
    "    # Define Col Types\n",
    "    for col in df.columns:\n",
    "        col_type = f\"\\t{col} {dtype_map[str(df[col].dtypes)]},\\n\"\n",
    "        create_table_query = create_table_query + col_type\n",
    "\n",
    "    # Define Primary Key\n",
    "    primary_col = \"\"\n",
    "    foreign_key = \"\"\n",
    "    if \"State_UT\" in df.columns:\n",
    "        primary_col = \"State_UT\"\n",
    "        foreign_key = f\"\\tconstraint fk_{table_name}_State_UT foreign key(State_UT) references state(State_UT)\"\n",
    "    if \"District\" in df.columns:\n",
    "        if primary_col:\n",
    "            primary_col += \",\"\n",
    "            foreign_key += \",\\n\"\n",
    "        primary_col += \"District\"\n",
    "        foreign_key = foreign_key + f\"\\tconstraint fk_{table_name}_District foreign key(District) references district(District)\"\n",
    "    prim_key = f\"\\tconstraint pk_{table_name}_{primary_col.replace(',', '_')} primary key({primary_col}),\\n\"\n",
    "    \n",
    "    if table_name not in (\"state\", \"district\"):\n",
    "        create_table_query = create_table_query + prim_key + foreign_key\n",
    "    else:\n",
    "        create_table_query = create_table_query + prim_key\n",
    "\n",
    "    create_table_query = create_table_query + \"\\n)\"\n",
    "#     print(create_table_query)\n",
    "\n",
    "    # Execute the Create Table command\n",
    "    curs.execute(create_table_query)\n",
    "    curs.commit()\n",
    "    print(f\"{table_name} created successfully\")\n",
    "    # -------------------------------Create Table Ends-----------------------------------------\n",
    "    \n",
    "\n",
    "    #--------------------------------Insert Data Starts-----------------------------------------------\n",
    "    \n",
    "    # Fill NA with None\n",
    "    df = df.replace({pd.NaT: None, np.NaN: None})\n",
    "    insert_query = f\"INSERT INTO {table_name} values({','.join(['?']*len(df.columns))})\"\n",
    "    for row in list(df.values.tolist()):\n",
    "#         print(insert_query, row)\n",
    "        curs.execute(insert_query, *row)\n",
    "#     print(insert_query)\n",
    "    curs.commit()\n",
    "    #--------------------------------Insert Data Ends-----------------------------------------------"
   ]
  },
  {
   "cell_type": "code",
   "execution_count": 102,
   "id": "42826fe1",
   "metadata": {},
   "outputs": [],
   "source": [
    "df = pd.read_csv(\"Clean/all_hospitals.csv\")\n",
    "state_table = df[\"State/UT\"]\n",
    "df = pd.read_csv(\"Clean/census_2011.csv\")\n",
    "district_table = df[\"District\"]\n",
    "state_table = pd.DataFrame(state_table.unique(), columns=[\"State_UT\"])\n",
    "state_table.to_csv(\"Clean/Help/state.csv\")\n",
    "district_table = pd.DataFrame(district_table.unique(), columns=[\"District\"])\n",
    "district_table.to_csv(\"Clean/Help/district.csv\")"
   ]
  },
  {
   "cell_type": "code",
   "execution_count": 103,
   "id": "a9670d00",
   "metadata": {},
   "outputs": [
    {
     "name": "stdout",
     "output_type": "stream",
     "text": [
      "district created successfully\n",
      "state created successfully\n"
     ]
    }
   ],
   "source": [
    "for f in os.listdir(\"Clean/Help\"):\n",
    "    file_path = f\"Clean/Help/{f}\"\n",
    "    if os.path.isfile(file_path):\n",
    "        create_table(file_path)"
   ]
  },
  {
   "cell_type": "code",
   "execution_count": 104,
   "id": "08d3ef96",
   "metadata": {
    "scrolled": true
   },
   "outputs": [
    {
     "name": "stdout",
     "output_type": "stream",
     "text": [
      "all_hospitals created successfully\n",
      "census_2011 created successfully\n",
      "government_hospital created successfully\n",
      "housing created successfully\n",
      "housing_with_state created successfully\n"
     ]
    }
   ],
   "source": [
    "for f in os.listdir(\"Clean/\"):\n",
    "    file_path = f\"Clean/{f}\"\n",
    "    if os.path.isfile(file_path):\n",
    "        create_table(file_path)"
   ]
  },
  {
   "cell_type": "markdown",
   "id": "31808b60",
   "metadata": {},
   "source": [
    "### Problem 20"
   ]
  },
  {
   "cell_type": "code",
   "execution_count": null,
   "id": "ce1607a0",
   "metadata": {},
   "outputs": [],
   "source": [
    "query = \"\"\"\n",
    "select \n",
    "    table_rnk.State_UT\n",
    "    ,table_rnk.District\n",
    "    ,table_rnk.no_house_without_toilet\n",
    "    ,table_rnk.ratio\n",
    "from\n",
    "(\n",
    "    select \n",
    "        tbl.State_UT\n",
    "        ,tbl.District\n",
    "        ,tbl.no_house_without_toilet\n",
    "        ,tbl.ratio\n",
    "        ,dense_rank() over(order by ratio) as rnk\n",
    "    from \n",
    "        (select\n",
    "            c.State_UT\n",
    "            ,c.District\n",
    "            --,(h.Households_Rural+h.Households_Urban)\n",
    "            --,(h.Households_Rural_Toilet_Premise+h.Households_Urban_Toilet_Premise)\n",
    "            ,(h.Households_Rural+h.Households_Urban) - (h.Households_Rural_Toilet_Premise+h.Households_Urban_Toilet_Premise) as no_house_without_toilet\n",
    "            ,ah.HospitalBeds/sum(c.Population) over(partition by c.State_UT) as ratio\n",
    "        from all_hospitals ah\n",
    "        join census_2011 c on c.State_UT = ah.State_UT\n",
    "        join housing h on c.District = h.District\n",
    "    ) tbl\n",
    ") table_rnk\n",
    "where table_rnk.rnk <= 3\n",
    "\"\"\"\n",
    "\n",
    "data = curs.execute(query)\n",
    "data.fetchall()"
   ]
  },
  {
   "cell_type": "markdown",
   "id": "d57e0c20",
   "metadata": {},
   "source": [
    "### Problem 22"
   ]
  },
  {
   "cell_type": "code",
   "execution_count": 105,
   "id": "afd14d66",
   "metadata": {},
   "outputs": [],
   "source": [
    "# pd.read_csv(\"Data/\")"
   ]
  },
  {
   "cell_type": "markdown",
   "id": "8d30393f",
   "metadata": {},
   "source": [
    "### Problem 24"
   ]
  },
  {
   "cell_type": "code",
   "execution_count": 126,
   "id": "974097fd",
   "metadata": {},
   "outputs": [],
   "source": [
    "query = \"exec district_report_liv_dilap\"\n",
    "data = curs.execute(query)\n",
    "l = data.fetchall()\n",
    "df = pd.DataFrame.from_records(l, columns = ['District', 'Population', 'no_liv_per1000', 'no_dilap_per1000'])\n",
    "# df = pd.DataFrame(data.fetchall())\n",
    "cols = [ 'Population', 'no_liv_per1000', 'no_dilap_per1000']\n",
    "for col in cols:\n",
    "    df[col] = df[col].astype(float)"
   ]
  },
  {
   "cell_type": "code",
   "execution_count": 140,
   "id": "b1d85a9a",
   "metadata": {},
   "outputs": [
    {
     "data": {
      "text/plain": [
       "<Axes: xlabel='District'>"
      ]
     },
     "execution_count": 140,
     "metadata": {},
     "output_type": "execute_result"
    },
    {
     "data": {
      "image/png": "[encoded data removed]",
      "text/plain": [
       "<Figure size 640x480 with 1 Axes>"
      ]
     },
     "metadata": {},
     "output_type": "display_data"
    }
   ],
   "source": [
    "df.iloc[:10].plot.bar(x=\"District\", y=\"no_liv_per1000\")"
   ]
  },
  {
   "cell_type": "code",
   "execution_count": 141,
   "id": "f84e5b34",
   "metadata": {},
   "outputs": [
    {
     "data": {
      "text/plain": [
       "<Axes: xlabel='District'>"
      ]
     },
     "execution_count": 141,
     "metadata": {},
     "output_type": "execute_result"
    },
    {
     "data": {
      "image/png": "[encoded data removed]",
      "text/plain": [
       "<Figure size 640x480 with 1 Axes>"
      ]
     },
     "metadata": {},
     "output_type": "display_data"
    }
   ],
   "source": [
    "df.iloc[:10].plot.bar(x=\"District\", y= \"no_dilap_per1000\")"
   ]
  },
  {
   "cell_type": "code",
   "execution_count": 142,
   "id": "72f38b1d",
   "metadata": {},
   "outputs": [
    {
     "data": {
      "text/plain": [
       "<Axes: xlabel='District'>"
      ]
     },
     "execution_count": 142,
     "metadata": {},
     "output_type": "execute_result"
    },
    {
     "data": {
      "image/png": "[encoded data removed]",
      "text/plain": [
       "<Figure size 640x480 with 1 Axes>"
      ]
     },
     "metadata": {},
     "output_type": "display_data"
    }
   ],
   "source": [
    "df.iloc[:10].plot.bar(x=\"District\", y= \"Population\")"
   ]
  },
  {
   "cell_type": "code",
   "execution_count": null,
   "id": "3cb1cc3a",
   "metadata": {},
   "outputs": [],
   "source": []
  }
 ],
 "metadata": {
  "kernelspec": {
   "display_name": "Python 3 (ipykernel)",
   "language": "python",
   "name": "python3"
  },
  "language_info": {
   "codemirror_mode": {
    "name": "ipython",
    "version": 3
   },
   "file_extension": ".py",
   "mimetype": "text/x-python",
   "name": "python",
   "nbconvert_exporter": "python",
   "pygments_lexer": "ipython3",
   "version": "3.10.9"
  }
 },
 "nbformat": 4,
 "nbformat_minor": 5
}
